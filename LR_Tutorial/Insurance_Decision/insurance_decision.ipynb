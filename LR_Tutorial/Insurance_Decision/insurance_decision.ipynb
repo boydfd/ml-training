{
 "cells": [
  {
   "cell_type": "code",
   "metadata": {
    "tags": [],
    "cell_id": "00000-30e4c19d-3f17-4345-8d25-023530c7e6d6",
    "deepnote_to_be_reexecuted": false,
    "source_hash": "a643ed23",
    "execution_start": 1629992090415,
    "execution_millis": 3923,
    "deepnote_cell_type": "code"
   },
   "source": "import pandas as pd \nfrom matplotlib import pyplot as plt \nfrom sklearn.model_selection import train_test_split\nfrom sklearn.linear_model import LogisticRegression\n\n# 数据读取\ndf = pd.read_csv(\"insurance_data.csv\")\ndf.head()",
   "execution_count": 1,
   "outputs": [
    {
     "output_type": "execute_result",
     "execution_count": 1,
     "data": {
      "application/vnd.deepnote.dataframe.v2+json": {
       "row_count": 5,
       "column_count": 2,
       "columns": [
        {
         "name": "age",
         "dtype": "int64",
         "stats": {
          "unique_count": 5,
          "nan_count": 0,
          "min": "22",
          "max": "52",
          "histogram": [
           {
            "bin_start": 22,
            "bin_end": 25,
            "count": 1
           },
           {
            "bin_start": 25,
            "bin_end": 28,
            "count": 1
           },
           {
            "bin_start": 28,
            "bin_end": 31,
            "count": 0
           },
           {
            "bin_start": 31,
            "bin_end": 34,
            "count": 0
           },
           {
            "bin_start": 34,
            "bin_end": 37,
            "count": 0
           },
           {
            "bin_start": 37,
            "bin_end": 40,
            "count": 0
           },
           {
            "bin_start": 40,
            "bin_end": 43,
            "count": 0
           },
           {
            "bin_start": 43,
            "bin_end": 46,
            "count": 0
           },
           {
            "bin_start": 46,
            "bin_end": 49,
            "count": 2
           },
           {
            "bin_start": 49,
            "bin_end": 52,
            "count": 1
           }
          ]
         }
        },
        {
         "name": "bought_insurance",
         "dtype": "int64",
         "stats": {
          "unique_count": 2,
          "nan_count": 0,
          "min": "0",
          "max": "1",
          "histogram": [
           {
            "bin_start": 0,
            "bin_end": 0.1,
            "count": 3
           },
           {
            "bin_start": 0.1,
            "bin_end": 0.2,
            "count": 0
           },
           {
            "bin_start": 0.2,
            "bin_end": 0.30000000000000004,
            "count": 0
           },
           {
            "bin_start": 0.30000000000000004,
            "bin_end": 0.4,
            "count": 0
           },
           {
            "bin_start": 0.4,
            "bin_end": 0.5,
            "count": 0
           },
           {
            "bin_start": 0.5,
            "bin_end": 0.6000000000000001,
            "count": 0
           },
           {
            "bin_start": 0.6000000000000001,
            "bin_end": 0.7000000000000001,
            "count": 0
           },
           {
            "bin_start": 0.7000000000000001,
            "bin_end": 0.8,
            "count": 0
           },
           {
            "bin_start": 0.8,
            "bin_end": 0.9,
            "count": 0
           },
           {
            "bin_start": 0.9,
            "bin_end": 1,
            "count": 2
           }
          ]
         }
        },
        {
         "name": "_deepnote_index_column",
         "dtype": "int64"
        }
       ],
       "rows_top": [
        {
         "age": 22,
         "bought_insurance": 0,
         "_deepnote_index_column": 0
        },
        {
         "age": 25,
         "bought_insurance": 0,
         "_deepnote_index_column": 1
        },
        {
         "age": 47,
         "bought_insurance": 1,
         "_deepnote_index_column": 2
        },
        {
         "age": 52,
         "bought_insurance": 0,
         "_deepnote_index_column": 3
        },
        {
         "age": 46,
         "bought_insurance": 1,
         "_deepnote_index_column": 4
        }
       ],
       "rows_bottom": null
      },
      "text/plain": "   age  bought_insurance\n0   22                 0\n1   25                 0\n2   47                 1\n3   52                 0\n4   46                 1",
      "text/html": "<div>\n<style scoped>\n    .dataframe tbody tr th:only-of-type {\n        vertical-align: middle;\n    }\n\n    .dataframe tbody tr th {\n        vertical-align: top;\n    }\n\n    .dataframe thead th {\n        text-align: right;\n    }\n</style>\n<table border=\"1\" class=\"dataframe\">\n  <thead>\n    <tr style=\"text-align: right;\">\n      <th></th>\n      <th>age</th>\n      <th>bought_insurance</th>\n    </tr>\n  </thead>\n  <tbody>\n    <tr>\n      <th>0</th>\n      <td>22</td>\n      <td>0</td>\n    </tr>\n    <tr>\n      <th>1</th>\n      <td>25</td>\n      <td>0</td>\n    </tr>\n    <tr>\n      <th>2</th>\n      <td>47</td>\n      <td>1</td>\n    </tr>\n    <tr>\n      <th>3</th>\n      <td>52</td>\n      <td>0</td>\n    </tr>\n    <tr>\n      <th>4</th>\n      <td>46</td>\n      <td>1</td>\n    </tr>\n  </tbody>\n</table>\n</div>"
     },
     "metadata": {}
    }
   ]
  },
  {
   "cell_type": "code",
   "metadata": {
    "tags": [],
    "cell_id": "00001-676796e4-b9ad-4202-a98b-81aba893b97a",
    "deepnote_to_be_reexecuted": false,
    "source_hash": "14f60b8f",
    "execution_start": 1629992094335,
    "execution_millis": 55,
    "deepnote_cell_type": "code"
   },
   "source": "df.shape",
   "execution_count": 2,
   "outputs": [
    {
     "output_type": "execute_result",
     "execution_count": 2,
     "data": {
      "text/plain": "(27, 2)"
     },
     "metadata": {}
    }
   ]
  },
  {
   "cell_type": "code",
   "metadata": {
    "tags": [],
    "cell_id": "00001-b66a1acb-9ca7-4e1f-9127-4e92c71d7a78",
    "deepnote_to_be_reexecuted": false,
    "source_hash": "d155678",
    "execution_start": 1629992094380,
    "execution_millis": 284,
    "deepnote_cell_type": "code"
   },
   "source": "# 点图分析数据分布情况\nplt.scatter(df.age,df.bought_insurance, marker='+', color='red')",
   "execution_count": 3,
   "outputs": [
    {
     "output_type": "execute_result",
     "execution_count": 3,
     "data": {
      "text/plain": "<matplotlib.collections.PathCollection at 0x7f00698e1050>"
     },
     "metadata": {}
    },
    {
     "data": {
      "text/plain": "<Figure size 432x288 with 1 Axes>",
      "image/png": "[encoded data removed]"
     },
     "metadata": {
      "needs_background": "light",
      "image/png": {
       "width": 372,
       "height": 248
      }
     },
     "output_type": "display_data"
    }
   ]
  },
  {
   "cell_type": "code",
   "metadata": {
    "tags": [],
    "cell_id": "00003-ae1d3cd1-bf69-4c87-b4de-376df53d110a",
    "deepnote_to_be_reexecuted": false,
    "source_hash": "84c147c0",
    "execution_start": 1629992094669,
    "execution_millis": 8,
    "deepnote_cell_type": "code"
   },
   "source": "# 数据分组：训练集和测试集 比例 8：2\nX_train, X_test, y_train, y_test = train_test_split(df[['age']],df.bought_insurance,train_size=0.8)\n",
   "execution_count": 4,
   "outputs": []
  },
  {
   "cell_type": "code",
   "metadata": {
    "tags": [],
    "cell_id": "00004-840894e8-09c6-484a-a0c7-099ed9bf156f",
    "deepnote_to_be_reexecuted": false,
    "source_hash": "d65cf08f",
    "execution_start": 1629992094683,
    "execution_millis": 37,
    "deepnote_cell_type": "code"
   },
   "source": "X_test",
   "execution_count": 5,
   "outputs": [
    {
     "output_type": "execute_result",
     "execution_count": 5,
     "data": {
      "application/vnd.deepnote.dataframe.v2+json": {
       "row_count": 6,
       "column_count": 1,
       "columns": [
        {
         "name": "age",
         "dtype": "int64",
         "stats": {
          "unique_count": 6,
          "nan_count": 0,
          "min": "21",
          "max": "60",
          "histogram": [
           {
            "bin_start": 21,
            "bin_end": 24.9,
            "count": 2
           },
           {
            "bin_start": 24.9,
            "bin_end": 28.8,
            "count": 2
           },
           {
            "bin_start": 28.8,
            "bin_end": 32.7,
            "count": 0
           },
           {
            "bin_start": 32.7,
            "bin_end": 36.6,
            "count": 0
           },
           {
            "bin_start": 36.6,
            "bin_end": 40.5,
            "count": 0
           },
           {
            "bin_start": 40.5,
            "bin_end": 44.4,
            "count": 0
           },
           {
            "bin_start": 44.4,
            "bin_end": 48.3,
            "count": 0
           },
           {
            "bin_start": 48.3,
            "bin_end": 52.2,
            "count": 1
           },
           {
            "bin_start": 52.2,
            "bin_end": 56.1,
            "count": 0
           },
           {
            "bin_start": 56.1,
            "bin_end": 60,
            "count": 1
           }
          ]
         }
        },
        {
         "name": "_deepnote_index_column",
         "dtype": "int64"
        }
       ],
       "rows_top": [
        {
         "age": 21,
         "_deepnote_index_column": 20
        },
        {
         "age": 28,
         "_deepnote_index_column": 11
        },
        {
         "age": 23,
         "_deepnote_index_column": 26
        },
        {
         "age": 49,
         "_deepnote_index_column": 14
        },
        {
         "age": 60,
         "_deepnote_index_column": 7
        },
        {
         "age": 27,
         "_deepnote_index_column": 12
        }
       ],
       "rows_bottom": null
      },
      "text/plain": "    age\n20   21\n11   28\n26   23\n14   49\n7    60\n12   27",
      "text/html": "<div>\n<style scoped>\n    .dataframe tbody tr th:only-of-type {\n        vertical-align: middle;\n    }\n\n    .dataframe tbody tr th {\n        vertical-align: top;\n    }\n\n    .dataframe thead th {\n        text-align: right;\n    }\n</style>\n<table border=\"1\" class=\"dataframe\">\n  <thead>\n    <tr style=\"text-align: right;\">\n      <th></th>\n      <th>age</th>\n    </tr>\n  </thead>\n  <tbody>\n    <tr>\n      <th>20</th>\n      <td>21</td>\n    </tr>\n    <tr>\n      <th>11</th>\n      <td>28</td>\n    </tr>\n    <tr>\n      <th>26</th>\n      <td>23</td>\n    </tr>\n    <tr>\n      <th>14</th>\n      <td>49</td>\n    </tr>\n    <tr>\n      <th>7</th>\n      <td>60</td>\n    </tr>\n    <tr>\n      <th>12</th>\n      <td>27</td>\n    </tr>\n  </tbody>\n</table>\n</div>"
     },
     "metadata": {}
    }
   ]
  },
  {
   "cell_type": "code",
   "metadata": {
    "tags": [],
    "cell_id": "00006-8a7132d0-8a70-43b7-aebc-e303713e775f",
    "deepnote_to_be_reexecuted": false,
    "source_hash": "d3a9a9f0",
    "execution_start": 1629992094718,
    "execution_millis": 176047926,
    "deepnote_cell_type": "code"
   },
   "source": "model = LogisticRegression()",
   "execution_count": 6,
   "outputs": []
  },
  {
   "cell_type": "code",
   "metadata": {
    "tags": [],
    "cell_id": "00007-2dc5b010-02e8-4ddd-9c9a-097e710cd43f",
    "deepnote_to_be_reexecuted": false,
    "source_hash": "3a00e01a",
    "execution_start": 1629992094767,
    "execution_millis": 4,
    "deepnote_cell_type": "code"
   },
   "source": "# 训练模型\nmodel.fit(X_train, y_train)",
   "execution_count": 7,
   "outputs": [
    {
     "output_type": "execute_result",
     "execution_count": 7,
     "data": {
      "text/plain": "LogisticRegression()"
     },
     "metadata": {}
    }
   ]
  },
  {
   "cell_type": "code",
   "metadata": {
    "tags": [],
    "cell_id": "00009-f708a360-2412-494d-bc09-31882ffffc63",
    "deepnote_to_be_reexecuted": false,
    "source_hash": "7c6a4a46",
    "execution_start": 1629992094801,
    "execution_millis": 12,
    "deepnote_cell_type": "code"
   },
   "source": "# 测试集比对模型预测情况\ny_predicted = model.predict(X_test)\nprint(y_predicted)",
   "execution_count": 8,
   "outputs": [
    {
     "name": "stdout",
     "text": "[0 0 0 1 1 0]\n",
     "output_type": "stream"
    }
   ]
  },
  {
   "cell_type": "code",
   "metadata": {
    "tags": [],
    "cell_id": "00010-7f34253d-e4c9-44ca-acd4-3ccb0fa95108",
    "deepnote_to_be_reexecuted": false,
    "source_hash": "3e8ae98c",
    "execution_start": 1629992094802,
    "execution_millis": 11,
    "deepnote_cell_type": "code"
   },
   "source": "# 模型预测可能性分布\nmodel.predict_proba(X_test)",
   "execution_count": 9,
   "outputs": [
    {
     "output_type": "execute_result",
     "execution_count": 9,
     "data": {
      "text/plain": "array([[0.86484193, 0.13515807],\n       [0.74469557, 0.25530443],\n       [0.83639548, 0.16360452],\n       [0.21649159, 0.78350841],\n       [0.0744185 , 0.9255815 ],\n       [0.76544099, 0.23455901]])"
     },
     "metadata": {}
    }
   ]
  },
  {
   "cell_type": "code",
   "metadata": {
    "tags": [],
    "cell_id": "00011-15f166d8-93b6-4d92-bac4-b1c88b34fcee",
    "deepnote_to_be_reexecuted": false,
    "source_hash": "d539c763",
    "execution_start": 1629992094803,
    "execution_millis": 0,
    "deepnote_cell_type": "code"
   },
   "source": "# 比对测试集预测与实际结果得出模型评分\nmodel.score(X_test, y_test)",
   "execution_count": 10,
   "outputs": [
    {
     "output_type": "execute_result",
     "execution_count": 10,
     "data": {
      "text/plain": "1.0"
     },
     "metadata": {}
    }
   ]
  },
  {
   "cell_type": "code",
   "metadata": {
    "tags": [],
    "cell_id": "00012-76889db6-7b8c-4a51-9df8-0bc597890f9e",
    "deepnote_to_be_reexecuted": false,
    "source_hash": "71b56a70",
    "execution_start": 1629992094835,
    "execution_millis": 2,
    "deepnote_cell_type": "code"
   },
   "source": "# 预测任意年龄\nmodel.predict([[67], [23], [43]])",
   "execution_count": 11,
   "outputs": []
  },
  {
   "cell_type": "code",
   "metadata": {
    "tags": [],
    "cell_id": "00010-6c40ac0b-51f8-4a8e-b613-8a0a046a77b6",
    "deepnote_to_be_reexecuted": false,
    "source_hash": "1058a9f2",
    "execution_start": 1629992094835,
    "execution_millis": 8,
    "deepnote_cell_type": "code"
   },
   "source": "model.coef_",
   "execution_count": 12,
   "outputs": [
    {
     "output_type": "execute_result",
     "execution_count": 12,
     "data": {
      "text/plain": "array([[0.11222614]])"
     },
     "metadata": {}
    }
   ]
  },
  {
   "cell_type": "code",
   "metadata": {
    "tags": [],
    "cell_id": "00011-ec369887-348f-485a-8ff0-7a3e4438a502",
    "deepnote_to_be_reexecuted": false,
    "source_hash": "b18564c8",
    "execution_start": 1629992094836,
    "execution_millis": 7,
    "deepnote_cell_type": "code"
   },
   "source": "model.intercept_",
   "execution_count": 13,
   "outputs": [
    {
     "output_type": "execute_result",
     "execution_count": 13,
     "data": {
      "text/plain": "array([-4.21285071])"
     },
     "metadata": {}
    }
   ]
  },
  {
   "cell_type": "code",
   "metadata": {
    "tags": [],
    "cell_id": "00012-75190c5f-1562-4ad9-9b0d-859c69e8a37a",
    "deepnote_to_be_reexecuted": false,
    "source_hash": "2ce160dd",
    "execution_start": 1629992094859,
    "execution_millis": 176047911,
    "deepnote_cell_type": "code"
   },
   "source": "import math \n# 尝试自建sigmoid函数 建立预测模型\ndef sigmoid(x):\n    return 1 / (1 + math.exp(-x))",
   "execution_count": 14,
   "outputs": []
  },
  {
   "cell_type": "code",
   "metadata": {
    "tags": [],
    "cell_id": "00013-dbb9a72b-cea4-4ac3-8bf6-02f8093991a7",
    "deepnote_to_be_reexecuted": false,
    "source_hash": "72d64245",
    "execution_start": 1629992132522,
    "execution_millis": 3,
    "deepnote_cell_type": "code"
   },
   "source": "def prediction_function(age):\n    z =  0.11223 * age - 4.21285\n    y = sigmoid(z)\n    return y",
   "execution_count": 16,
   "outputs": []
  },
  {
   "cell_type": "code",
   "metadata": {
    "tags": [],
    "cell_id": "00014-8aad41cc-b743-45bf-aaee-9756b3fbd5c3",
    "deepnote_to_be_reexecuted": false,
    "source_hash": "e98de3d6",
    "execution_start": 1629992150665,
    "execution_millis": 40,
    "deepnote_cell_type": "code"
   },
   "source": "age = 36\nprediction_function(age)\n",
   "execution_count": 19,
   "outputs": [
    {
     "output_type": "execute_result",
     "execution_count": 19,
     "data": {
      "text/plain": "0.2553251213291044"
     },
     "metadata": {}
    }
   ]
  },
  {
   "cell_type": "code",
   "metadata": {
    "tags": [],
    "cell_id": "00015-3fc6da01-d760-48d6-9688-af64ba71108d",
    "deepnote_to_be_reexecuted": false,
    "source_hash": "ce28c80a",
    "execution_start": 1629992141825,
    "execution_millis": 5,
    "deepnote_cell_type": "code"
   },
   "source": "age= 43\nprediction_function(age)",
   "execution_count": 18,
   "outputs": [
    {
     "output_type": "execute_result",
     "execution_count": 18,
     "data": {
      "text/plain": "0.6486339549062542"
     },
     "metadata": {}
    }
   ]
  },
  {
   "cell_type": "markdown",
   "source": "<a style='text-decoration:none;line-height:16px;display:flex;color:#5B5B62;padding:10px;justify-content:end;' href='https://deepnote.com?utm_source=created-in-deepnote-cell&projectId=6809636d-8408-48ac-90f1-f8b5bce3624b' target=\"_blank\">\n<img alt='Created in deepnote.com' style='display:inline;max-height:16px;margin:0px;margin-right:7.5px;' src='data:image/svg+xml;base64,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' > </img>\nCreated in <span style='font-weight:600;margin-left:4px;'>Deepnote</span></a>",
   "metadata": {
    "tags": [],
    "created_in_deepnote_cell": true,
    "deepnote_cell_type": "markdown"
   }
  }
 ],
 "nbformat": 4,
 "nbformat_minor": 2,
 "metadata": {
  "orig_nbformat": 2,
  "deepnote": {
   "is_reactive": false
  },
  "deepnote_notebook_id": "b9d589bc-c7ca-48c5-8be6-f0082d4a7022",
  "deepnote_execution_queue": []
 }
}