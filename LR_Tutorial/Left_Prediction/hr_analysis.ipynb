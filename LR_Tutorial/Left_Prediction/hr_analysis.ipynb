{
 "cells": [
  {
   "cell_type": "code",
   "metadata": {
    "tags": [],
    "cell_id": "00000-ba1372a6-707d-453e-81cd-ee1fa1d57f1c",
    "deepnote_to_be_reexecuted": false,
    "source_hash": "c24b19d2",
    "execution_start": 1629994063837,
    "execution_millis": 446,
    "deepnote_cell_type": "code"
   },
   "source": "import pandas as pd\nfrom matplotlib import pyplot as plt\n\n# 读取数据\ndf = pd.read_csv(\"HR_comma_sep.csv\")\ndf.head()\n",
   "outputs": [
    {
     "output_type": "execute_result",
     "execution_count": 1,
     "data": {
      "application/vnd.deepnote.dataframe.v2+json": {
       "row_count": 5,
       "column_count": 10,
       "columns": [
        {
         "name": "satisfaction_level",
         "dtype": "float64",
         "stats": {
          "unique_count": 5,
          "nan_count": 0,
          "min": "0.11",
          "max": "0.8",
          "histogram": [
           {
            "bin_start": 0.11,
            "bin_end": 0.179,
            "count": 1
           },
           {
            "bin_start": 0.179,
            "bin_end": 0.248,
            "count": 0
           },
           {
            "bin_start": 0.248,
            "bin_end": 0.317,
            "count": 0
           },
           {
            "bin_start": 0.317,
            "bin_end": 0.386,
            "count": 2
           },
           {
            "bin_start": 0.386,
            "bin_end": 0.455,
            "count": 0
           },
           {
            "bin_start": 0.455,
            "bin_end": 0.524,
            "count": 0
           },
           {
            "bin_start": 0.524,
            "bin_end": 0.5930000000000001,
            "count": 0
           },
           {
            "bin_start": 0.5930000000000001,
            "bin_end": 0.662,
            "count": 0
           },
           {
            "bin_start": 0.662,
            "bin_end": 0.731,
            "count": 1
           },
           {
            "bin_start": 0.731,
            "bin_end": 0.8,
            "count": 1
           }
          ]
         }
        },
        {
         "name": "last_evaluation",
         "dtype": "float64",
         "stats": {
          "unique_count": 5,
          "nan_count": 0,
          "min": "0.52",
          "max": "0.88",
          "histogram": [
           {
            "bin_start": 0.52,
            "bin_end": 0.556,
            "count": 2
           },
           {
            "bin_start": 0.556,
            "bin_end": 0.592,
            "count": 0
           },
           {
            "bin_start": 0.592,
            "bin_end": 0.628,
            "count": 0
           },
           {
            "bin_start": 0.628,
            "bin_end": 0.664,
            "count": 0
           },
           {
            "bin_start": 0.664,
            "bin_end": 0.7,
            "count": 0
           },
           {
            "bin_start": 0.7,
            "bin_end": 0.736,
            "count": 0
           },
           {
            "bin_start": 0.736,
            "bin_end": 0.772,
            "count": 0
           },
           {
            "bin_start": 0.772,
            "bin_end": 0.808,
            "count": 0
           },
           {
            "bin_start": 0.808,
            "bin_end": 0.844,
            "count": 0
           },
           {
            "bin_start": 0.844,
            "bin_end": 0.88,
            "count": 3
           }
          ]
         }
        },
        {
         "name": "number_project",
         "dtype": "int64",
         "stats": {
          "unique_count": 3,
          "nan_count": 0,
          "min": "2",
          "max": "7",
          "histogram": [
           {
            "bin_start": 2,
            "bin_end": 2.5,
            "count": 2
           },
           {
            "bin_start": 2.5,
            "bin_end": 3,
            "count": 0
           },
           {
            "bin_start": 3,
            "bin_end": 3.5,
            "count": 0
           },
           {
            "bin_start": 3.5,
            "bin_end": 4,
            "count": 0
           },
           {
            "bin_start": 4,
            "bin_end": 4.5,
            "count": 0
           },
           {
            "bin_start": 4.5,
            "bin_end": 5,
            "count": 0
           },
           {
            "bin_start": 5,
            "bin_end": 5.5,
            "count": 2
           },
           {
            "bin_start": 5.5,
            "bin_end": 6,
            "count": 0
           },
           {
            "bin_start": 6,
            "bin_end": 6.5,
            "count": 0
           },
           {
            "bin_start": 6.5,
            "bin_end": 7,
            "count": 1
           }
          ]
         }
        },
        {
         "name": "average_montly_hours",
         "dtype": "int64",
         "stats": {
          "unique_count": 5,
          "nan_count": 0,
          "min": "157",
          "max": "272",
          "histogram": [
           {
            "bin_start": 157,
            "bin_end": 168.5,
            "count": 2
           },
           {
            "bin_start": 168.5,
            "bin_end": 180,
            "count": 0
           },
           {
            "bin_start": 180,
            "bin_end": 191.5,
            "count": 0
           },
           {
            "bin_start": 191.5,
            "bin_end": 203,
            "count": 0
           },
           {
            "bin_start": 203,
            "bin_end": 214.5,
            "count": 0
           },
           {
            "bin_start": 214.5,
            "bin_end": 226,
            "count": 1
           },
           {
            "bin_start": 226,
            "bin_end": 237.5,
            "count": 0
           },
           {
            "bin_start": 237.5,
            "bin_end": 249,
            "count": 0
           },
           {
            "bin_start": 249,
            "bin_end": 260.5,
            "count": 0
           },
           {
            "bin_start": 260.5,
            "bin_end": 272,
            "count": 2
           }
          ]
         }
        },
        {
         "name": "time_spend_company",
         "dtype": "int64",
         "stats": {
          "unique_count": 4,
          "nan_count": 0,
          "min": "3",
          "max": "6",
          "histogram": [
           {
            "bin_start": 3,
            "bin_end": 3.3,
            "count": 2
           },
           {
            "bin_start": 3.3,
            "bin_end": 3.6,
            "count": 0
           },
           {
            "bin_start": 3.6,
            "bin_end": 3.9,
            "count": 0
           },
           {
            "bin_start": 3.9,
            "bin_end": 4.2,
            "count": 1
           },
           {
            "bin_start": 4.2,
            "bin_end": 4.5,
            "count": 0
           },
           {
            "bin_start": 4.5,
            "bin_end": 4.8,
            "count": 0
           },
           {
            "bin_start": 4.8,
            "bin_end": 5.1,
            "count": 1
           },
           {
            "bin_start": 5.1,
            "bin_end": 5.4,
            "count": 0
           },
           {
            "bin_start": 5.4,
            "bin_end": 5.699999999999999,
            "count": 0
           },
           {
            "bin_start": 5.699999999999999,
            "bin_end": 6,
            "count": 1
           }
          ]
         }
        },
        {
         "name": "Work_accident",
         "dtype": "int64",
         "stats": {
          "unique_count": 1,
          "nan_count": 0,
          "min": "0",
          "max": "0",
          "histogram": [
           {
            "bin_start": -0.5,
            "bin_end": -0.4,
            "count": 0
           },
           {
            "bin_start": -0.4,
            "bin_end": -0.3,
            "count": 0
           },
           {
            "bin_start": -0.3,
            "bin_end": -0.19999999999999996,
            "count": 0
           },
           {
            "bin_start": -0.19999999999999996,
            "bin_end": -0.09999999999999998,
            "count": 0
           },
           {
            "bin_start": -0.09999999999999998,
            "bin_end": 0,
            "count": 0
           },
           {
            "bin_start": 0,
            "bin_end": 0.10000000000000009,
            "count": 5
           },
           {
            "bin_start": 0.10000000000000009,
            "bin_end": 0.20000000000000007,
            "count": 0
           },
           {
            "bin_start": 0.20000000000000007,
            "bin_end": 0.30000000000000004,
            "count": 0
           },
           {
            "bin_start": 0.30000000000000004,
            "bin_end": 0.4,
            "count": 0
           },
           {
            "bin_start": 0.4,
            "bin_end": 0.5,
            "count": 0
           }
          ]
         }
        },
        {
         "name": "left",
         "dtype": "int64",
         "stats": {
          "unique_count": 1,
          "nan_count": 0,
          "min": "1",
          "max": "1",
          "histogram": [
           {
            "bin_start": 0.5,
            "bin_end": 0.6,
            "count": 0
           },
           {
            "bin_start": 0.6,
            "bin_end": 0.7,
            "count": 0
           },
           {
            "bin_start": 0.7,
            "bin_end": 0.8,
            "count": 0
           },
           {
            "bin_start": 0.8,
            "bin_end": 0.9,
            "count": 0
           },
           {
            "bin_start": 0.9,
            "bin_end": 1,
            "count": 0
           },
           {
            "bin_start": 1,
            "bin_end": 1.1,
            "count": 5
           },
           {
            "bin_start": 1.1,
            "bin_end": 1.2000000000000002,
            "count": 0
           },
           {
            "bin_start": 1.2000000000000002,
            "bin_end": 1.3,
            "count": 0
           },
           {
            "bin_start": 1.3,
            "bin_end": 1.4,
            "count": 0
           },
           {
            "bin_start": 1.4,
            "bin_end": 1.5,
            "count": 0
           }
          ]
         }
        },
        {
         "name": "promotion_last_5years",
         "dtype": "int64",
         "stats": {
          "unique_count": 1,
          "nan_count": 0,
          "min": "0",
          "max": "0",
          "histogram": [
           {
            "bin_start": -0.5,
            "bin_end": -0.4,
            "count": 0
           },
           {
            "bin_start": -0.4,
            "bin_end": -0.3,
            "count": 0
           },
           {
            "bin_start": -0.3,
            "bin_end": -0.19999999999999996,
            "count": 0
           },
           {
            "bin_start": -0.19999999999999996,
            "bin_end": -0.09999999999999998,
            "count": 0
           },
           {
            "bin_start": -0.09999999999999998,
            "bin_end": 0,
            "count": 0
           },
           {
            "bin_start": 0,
            "bin_end": 0.10000000000000009,
            "count": 5
           },
           {
            "bin_start": 0.10000000000000009,
            "bin_end": 0.20000000000000007,
            "count": 0
           },
           {
            "bin_start": 0.20000000000000007,
            "bin_end": 0.30000000000000004,
            "count": 0
           },
           {
            "bin_start": 0.30000000000000004,
            "bin_end": 0.4,
            "count": 0
           },
           {
            "bin_start": 0.4,
            "bin_end": 0.5,
            "count": 0
           }
          ]
         }
        },
        {
         "name": "Department",
         "dtype": "object",
         "stats": {
          "unique_count": 1,
          "nan_count": 0,
          "categories": [
           {
            "name": "sales",
            "count": 5
           }
          ]
         }
        },
        {
         "name": "salary",
         "dtype": "object",
         "stats": {
          "unique_count": 2,
          "nan_count": 0,
          "categories": [
           {
            "name": "low",
            "count": 3
           },
           {
            "name": "medium",
            "count": 2
           }
          ]
         }
        },
        {
         "name": "_deepnote_index_column",
         "dtype": "int64"
        }
       ],
       "rows_top": [
        {
         "satisfaction_level": 0.38,
         "last_evaluation": 0.53,
         "number_project": 2,
         "average_montly_hours": 157,
         "time_spend_company": 3,
         "Work_accident": 0,
         "left": 1,
         "promotion_last_5years": 0,
         "Department": "sales",
         "salary": "low",
         "_deepnote_index_column": 0
        },
        {
         "satisfaction_level": 0.8,
         "last_evaluation": 0.86,
         "number_project": 5,
         "average_montly_hours": 262,
         "time_spend_company": 6,
         "Work_accident": 0,
         "left": 1,
         "promotion_last_5years": 0,
         "Department": "sales",
         "salary": "medium",
         "_deepnote_index_column": 1
        },
        {
         "satisfaction_level": 0.11,
         "last_evaluation": 0.88,
         "number_project": 7,
         "average_montly_hours": 272,
         "time_spend_company": 4,
         "Work_accident": 0,
         "left": 1,
         "promotion_last_5years": 0,
         "Department": "sales",
         "salary": "medium",
         "_deepnote_index_column": 2
        },
        {
         "satisfaction_level": 0.72,
         "last_evaluation": 0.87,
         "number_project": 5,
         "average_montly_hours": 223,
         "time_spend_company": 5,
         "Work_accident": 0,
         "left": 1,
         "promotion_last_5years": 0,
         "Department": "sales",
         "salary": "low",
         "_deepnote_index_column": 3
        },
        {
         "satisfaction_level": 0.37,
         "last_evaluation": 0.52,
         "number_project": 2,
         "average_montly_hours": 159,
         "time_spend_company": 3,
         "Work_accident": 0,
         "left": 1,
         "promotion_last_5years": 0,
         "Department": "sales",
         "salary": "low",
         "_deepnote_index_column": 4
        }
       ],
       "rows_bottom": null
      },
      "text/plain": "   satisfaction_level  last_evaluation  number_project  average_montly_hours  \\\n0                0.38             0.53               2                   157   \n1                0.80             0.86               5                   262   \n2                0.11             0.88               7                   272   \n3                0.72             0.87               5                   223   \n4                0.37             0.52               2                   159   \n\n   time_spend_company  Work_accident  left  promotion_last_5years Department  \\\n0                   3              0     1                      0      sales   \n1                   6              0     1                      0      sales   \n2                   4              0     1                      0      sales   \n3                   5              0     1                      0      sales   \n4                   3              0     1                      0      sales   \n\n   salary  \n0     low  \n1  medium  \n2  medium  \n3     low  \n4     low  ",
      "text/html": "<div>\n<style scoped>\n    .dataframe tbody tr th:only-of-type {\n        vertical-align: middle;\n    }\n\n    .dataframe tbody tr th {\n        vertical-align: top;\n    }\n\n    .dataframe thead th {\n        text-align: right;\n    }\n</style>\n<table border=\"1\" class=\"dataframe\">\n  <thead>\n    <tr style=\"text-align: right;\">\n      <th></th>\n      <th>satisfaction_level</th>\n      <th>last_evaluation</th>\n      <th>number_project</th>\n      <th>average_montly_hours</th>\n      <th>time_spend_company</th>\n      <th>Work_accident</th>\n      <th>left</th>\n      <th>promotion_last_5years</th>\n      <th>Department</th>\n      <th>salary</th>\n    </tr>\n  </thead>\n  <tbody>\n    <tr>\n      <th>0</th>\n      <td>0.38</td>\n      <td>0.53</td>\n      <td>2</td>\n      <td>157</td>\n      <td>3</td>\n      <td>0</td>\n      <td>1</td>\n      <td>0</td>\n      <td>sales</td>\n      <td>low</td>\n    </tr>\n    <tr>\n      <th>1</th>\n      <td>0.80</td>\n      <td>0.86</td>\n      <td>5</td>\n      <td>262</td>\n      <td>6</td>\n      <td>0</td>\n      <td>1</td>\n      <td>0</td>\n      <td>sales</td>\n      <td>medium</td>\n    </tr>\n    <tr>\n      <th>2</th>\n      <td>0.11</td>\n      <td>0.88</td>\n      <td>7</td>\n      <td>272</td>\n      <td>4</td>\n      <td>0</td>\n      <td>1</td>\n      <td>0</td>\n      <td>sales</td>\n      <td>medium</td>\n    </tr>\n    <tr>\n      <th>3</th>\n      <td>0.72</td>\n      <td>0.87</td>\n      <td>5</td>\n      <td>223</td>\n      <td>5</td>\n      <td>0</td>\n      <td>1</td>\n      <td>0</td>\n      <td>sales</td>\n      <td>low</td>\n    </tr>\n    <tr>\n      <th>4</th>\n      <td>0.37</td>\n      <td>0.52</td>\n      <td>2</td>\n      <td>159</td>\n      <td>3</td>\n      <td>0</td>\n      <td>1</td>\n      <td>0</td>\n      <td>sales</td>\n      <td>low</td>\n    </tr>\n  </tbody>\n</table>\n</div>"
     },
     "metadata": {}
    }
   ],
   "execution_count": 1
  },
  {
   "cell_type": "code",
   "metadata": {
    "tags": [],
    "cell_id": "00001-79c3a9a3-2e9e-43f2-aeaf-d87ee9605aca",
    "deepnote_to_be_reexecuted": false,
    "source_hash": "9e34a86",
    "execution_start": 1629994064289,
    "execution_millis": 1,
    "deepnote_cell_type": "code"
   },
   "source": "# 数据探索\ndf.shape",
   "outputs": [
    {
     "output_type": "execute_result",
     "execution_count": 2,
     "data": {
      "text/plain": "(14999, 10)"
     },
     "metadata": {}
    }
   ],
   "execution_count": 2
  },
  {
   "cell_type": "code",
   "metadata": {
    "tags": [],
    "cell_id": "00002-71834df7-5baa-4a6d-80c4-d4ce1df1ded0",
    "deepnote_to_be_reexecuted": false,
    "source_hash": "481dc7d4",
    "execution_start": 1629994064338,
    "execution_millis": 10,
    "deepnote_cell_type": "code"
   },
   "source": "# 离职员工总数\nleft = df[df.left==1]\nleft.shape",
   "outputs": [
    {
     "output_type": "execute_result",
     "execution_count": 3,
     "data": {
      "text/plain": "(3571, 10)"
     },
     "metadata": {}
    }
   ],
   "execution_count": 3
  },
  {
   "cell_type": "code",
   "metadata": {
    "tags": [],
    "cell_id": "00003-5a08322e-e647-45ed-b30a-2036dd9d12db",
    "deepnote_to_be_reexecuted": false,
    "source_hash": "486466ca",
    "execution_start": 1629994064339,
    "execution_millis": 9,
    "deepnote_cell_type": "code"
   },
   "source": "# 现存的员工数量\nretained = df[df.left==0]\nretained.shape",
   "outputs": [
    {
     "output_type": "execute_result",
     "execution_count": 4,
     "data": {
      "text/plain": "(11428, 10)"
     },
     "metadata": {}
    }
   ],
   "execution_count": 4
  },
  {
   "cell_type": "code",
   "metadata": {
    "tags": [],
    "cell_id": "00004-d4e32a1d-3f2e-452f-82de-86f588c2c118",
    "deepnote_to_be_reexecuted": false,
    "source_hash": "df349e5c",
    "execution_start": 1629994064339,
    "execution_millis": 278,
    "deepnote_cell_type": "code"
   },
   "source": "# 柱状图观察工资与去留相关性\ndf.groupby('left').mean()\npd.crosstab(df.salary,df.left).plot(kind='bar')",
   "outputs": [
    {
     "output_type": "execute_result",
     "execution_count": 5,
     "data": {
      "text/plain": "<AxesSubplot:xlabel='salary'>"
     },
     "metadata": {}
    },
    {
     "data": {
      "text/plain": "<Figure size 432x288 with 1 Axes>",
      "image/png": "[encoded data removed]"
     },
     "metadata": {
      "needs_background": "light",
      "image/png": {
       "width": 381,
       "height": 293
      }
     },
     "output_type": "display_data"
    }
   ],
   "execution_count": 5
  },
  {
   "cell_type": "code",
   "source": "# TODO：通过图分析寻找至多3个其他的关联特征\nsubdf = df[['satisfaction_level', 'salary']]  \nsubdf.head()\n",
   "metadata": {
    "tags": [],
    "cell_id": "00005-b8c95e85-aad5-4f63-adcb-43465f7ac38a",
    "deepnote_to_be_reexecuted": false,
    "source_hash": "93d73350",
    "execution_start": 1629994064610,
    "execution_millis": 7,
    "deepnote_cell_type": "code"
   },
   "outputs": [
    {
     "output_type": "execute_result",
     "execution_count": 6,
     "data": {
      "application/vnd.deepnote.dataframe.v2+json": {
       "row_count": 5,
       "column_count": 2,
       "columns": [
        {
         "name": "satisfaction_level",
         "dtype": "float64",
         "stats": {
          "unique_count": 5,
          "nan_count": 0,
          "min": "0.11",
          "max": "0.8",
          "histogram": [
           {
            "bin_start": 0.11,
            "bin_end": 0.179,
            "count": 1
           },
           {
            "bin_start": 0.179,
            "bin_end": 0.248,
            "count": 0
           },
           {
            "bin_start": 0.248,
            "bin_end": 0.317,
            "count": 0
           },
           {
            "bin_start": 0.317,
            "bin_end": 0.386,
            "count": 2
           },
           {
            "bin_start": 0.386,
            "bin_end": 0.455,
            "count": 0
           },
           {
            "bin_start": 0.455,
            "bin_end": 0.524,
            "count": 0
           },
           {
            "bin_start": 0.524,
            "bin_end": 0.5930000000000001,
            "count": 0
           },
           {
            "bin_start": 0.5930000000000001,
            "bin_end": 0.662,
            "count": 0
           },
           {
            "bin_start": 0.662,
            "bin_end": 0.731,
            "count": 1
           },
           {
            "bin_start": 0.731,
            "bin_end": 0.8,
            "count": 1
           }
          ]
         }
        },
        {
         "name": "salary",
         "dtype": "object",
         "stats": {
          "unique_count": 2,
          "nan_count": 0,
          "categories": [
           {
            "name": "low",
            "count": 3
           },
           {
            "name": "medium",
            "count": 2
           }
          ]
         }
        },
        {
         "name": "_deepnote_index_column",
         "dtype": "int64"
        }
       ],
       "rows_top": [
        {
         "satisfaction_level": 0.38,
         "salary": "low",
         "_deepnote_index_column": 0
        },
        {
         "satisfaction_level": 0.8,
         "salary": "medium",
         "_deepnote_index_column": 1
        },
        {
         "satisfaction_level": 0.11,
         "salary": "medium",
         "_deepnote_index_column": 2
        },
        {
         "satisfaction_level": 0.72,
         "salary": "low",
         "_deepnote_index_column": 3
        },
        {
         "satisfaction_level": 0.37,
         "salary": "low",
         "_deepnote_index_column": 4
        }
       ],
       "rows_bottom": null
      },
      "text/plain": "   satisfaction_level  salary\n0                0.38     low\n1                0.80  medium\n2                0.11  medium\n3                0.72     low\n4                0.37     low",
      "text/html": "<div>\n<style scoped>\n    .dataframe tbody tr th:only-of-type {\n        vertical-align: middle;\n    }\n\n    .dataframe tbody tr th {\n        vertical-align: top;\n    }\n\n    .dataframe thead th {\n        text-align: right;\n    }\n</style>\n<table border=\"1\" class=\"dataframe\">\n  <thead>\n    <tr style=\"text-align: right;\">\n      <th></th>\n      <th>satisfaction_level</th>\n      <th>salary</th>\n    </tr>\n  </thead>\n  <tbody>\n    <tr>\n      <th>0</th>\n      <td>0.38</td>\n      <td>low</td>\n    </tr>\n    <tr>\n      <th>1</th>\n      <td>0.80</td>\n      <td>medium</td>\n    </tr>\n    <tr>\n      <th>2</th>\n      <td>0.11</td>\n      <td>medium</td>\n    </tr>\n    <tr>\n      <th>3</th>\n      <td>0.72</td>\n      <td>low</td>\n    </tr>\n    <tr>\n      <th>4</th>\n      <td>0.37</td>\n      <td>low</td>\n    </tr>\n  </tbody>\n</table>\n</div>"
     },
     "metadata": {}
    }
   ],
   "execution_count": 6
  },
  {
   "cell_type": "code",
   "source": "# 工资'salary'特征为描述性数据，不利于后期建模，所以将其拆解成为可量化数据\nsalary_dummies = pd.get_dummies(subdf.salary, prefix=\"salary\")\ndf_with_dummies = pd.concat([subdf,salary_dummies],axis='columns')\ndf_with_dummies.head()",
   "metadata": {
    "tags": [],
    "cell_id": "00006-3a5749bc-f5e4-42dd-83b6-c62717eb90dd",
    "deepnote_to_be_reexecuted": false,
    "source_hash": "e0798bda",
    "execution_start": 1629994064611,
    "execution_millis": 57,
    "deepnote_cell_type": "code"
   },
   "outputs": [
    {
     "output_type": "execute_result",
     "execution_count": 7,
     "data": {
      "application/vnd.deepnote.dataframe.v2+json": {
       "row_count": 5,
       "column_count": 5,
       "columns": [
        {
         "name": "satisfaction_level",
         "dtype": "float64",
         "stats": {
          "unique_count": 5,
          "nan_count": 0,
          "min": "0.11",
          "max": "0.8",
          "histogram": [
           {
            "bin_start": 0.11,
            "bin_end": 0.179,
            "count": 1
           },
           {
            "bin_start": 0.179,
            "bin_end": 0.248,
            "count": 0
           },
           {
            "bin_start": 0.248,
            "bin_end": 0.317,
            "count": 0
           },
           {
            "bin_start": 0.317,
            "bin_end": 0.386,
            "count": 2
           },
           {
            "bin_start": 0.386,
            "bin_end": 0.455,
            "count": 0
           },
           {
            "bin_start": 0.455,
            "bin_end": 0.524,
            "count": 0
           },
           {
            "bin_start": 0.524,
            "bin_end": 0.5930000000000001,
            "count": 0
           },
           {
            "bin_start": 0.5930000000000001,
            "bin_end": 0.662,
            "count": 0
           },
           {
            "bin_start": 0.662,
            "bin_end": 0.731,
            "count": 1
           },
           {
            "bin_start": 0.731,
            "bin_end": 0.8,
            "count": 1
           }
          ]
         }
        },
        {
         "name": "salary",
         "dtype": "object",
         "stats": {
          "unique_count": 2,
          "nan_count": 0,
          "categories": [
           {
            "name": "low",
            "count": 3
           },
           {
            "name": "medium",
            "count": 2
           }
          ]
         }
        },
        {
         "name": "salary_high",
         "dtype": "uint8",
         "stats": {
          "unique_count": 1,
          "nan_count": 0,
          "min": "0",
          "max": "0",
          "histogram": [
           {
            "bin_start": -0.5,
            "bin_end": -0.4,
            "count": 0
           },
           {
            "bin_start": -0.4,
            "bin_end": -0.3,
            "count": 0
           },
           {
            "bin_start": -0.3,
            "bin_end": -0.19999999999999996,
            "count": 0
           },
           {
            "bin_start": -0.19999999999999996,
            "bin_end": -0.09999999999999998,
            "count": 0
           },
           {
            "bin_start": -0.09999999999999998,
            "bin_end": 0,
            "count": 0
           },
           {
            "bin_start": 0,
            "bin_end": 0.10000000000000009,
            "count": 5
           },
           {
            "bin_start": 0.10000000000000009,
            "bin_end": 0.20000000000000007,
            "count": 0
           },
           {
            "bin_start": 0.20000000000000007,
            "bin_end": 0.30000000000000004,
            "count": 0
           },
           {
            "bin_start": 0.30000000000000004,
            "bin_end": 0.4,
            "count": 0
           },
           {
            "bin_start": 0.4,
            "bin_end": 0.5,
            "count": 0
           }
          ]
         }
        },
        {
         "name": "salary_low",
         "dtype": "uint8",
         "stats": {
          "unique_count": 2,
          "nan_count": 0,
          "min": "0",
          "max": "1",
          "histogram": [
           {
            "bin_start": 0,
            "bin_end": 0.1,
            "count": 2
           },
           {
            "bin_start": 0.1,
            "bin_end": 0.2,
            "count": 0
           },
           {
            "bin_start": 0.2,
            "bin_end": 0.30000000000000004,
            "count": 0
           },
           {
            "bin_start": 0.30000000000000004,
            "bin_end": 0.4,
            "count": 0
           },
           {
            "bin_start": 0.4,
            "bin_end": 0.5,
            "count": 0
           },
           {
            "bin_start": 0.5,
            "bin_end": 0.6000000000000001,
            "count": 0
           },
           {
            "bin_start": 0.6000000000000001,
            "bin_end": 0.7000000000000001,
            "count": 0
           },
           {
            "bin_start": 0.7000000000000001,
            "bin_end": 0.8,
            "count": 0
           },
           {
            "bin_start": 0.8,
            "bin_end": 0.9,
            "count": 0
           },
           {
            "bin_start": 0.9,
            "bin_end": 1,
            "count": 3
           }
          ]
         }
        },
        {
         "name": "salary_medium",
         "dtype": "uint8",
         "stats": {
          "unique_count": 2,
          "nan_count": 0,
          "min": "0",
          "max": "1",
          "histogram": [
           {
            "bin_start": 0,
            "bin_end": 0.1,
            "count": 3
           },
           {
            "bin_start": 0.1,
            "bin_end": 0.2,
            "count": 0
           },
           {
            "bin_start": 0.2,
            "bin_end": 0.30000000000000004,
            "count": 0
           },
           {
            "bin_start": 0.30000000000000004,
            "bin_end": 0.4,
            "count": 0
           },
           {
            "bin_start": 0.4,
            "bin_end": 0.5,
            "count": 0
           },
           {
            "bin_start": 0.5,
            "bin_end": 0.6000000000000001,
            "count": 0
           },
           {
            "bin_start": 0.6000000000000001,
            "bin_end": 0.7000000000000001,
            "count": 0
           },
           {
            "bin_start": 0.7000000000000001,
            "bin_end": 0.8,
            "count": 0
           },
           {
            "bin_start": 0.8,
            "bin_end": 0.9,
            "count": 0
           },
           {
            "bin_start": 0.9,
            "bin_end": 1,
            "count": 2
           }
          ]
         }
        },
        {
         "name": "_deepnote_index_column",
         "dtype": "int64"
        }
       ],
       "rows_top": [
        {
         "satisfaction_level": 0.38,
         "salary": "low",
         "salary_high": 0,
         "salary_low": 1,
         "salary_medium": 0,
         "_deepnote_index_column": 0
        },
        {
         "satisfaction_level": 0.8,
         "salary": "medium",
         "salary_high": 0,
         "salary_low": 0,
         "salary_medium": 1,
         "_deepnote_index_column": 1
        },
        {
         "satisfaction_level": 0.11,
         "salary": "medium",
         "salary_high": 0,
         "salary_low": 0,
         "salary_medium": 1,
         "_deepnote_index_column": 2
        },
        {
         "satisfaction_level": 0.72,
         "salary": "low",
         "salary_high": 0,
         "salary_low": 1,
         "salary_medium": 0,
         "_deepnote_index_column": 3
        },
        {
         "satisfaction_level": 0.37,
         "salary": "low",
         "salary_high": 0,
         "salary_low": 1,
         "salary_medium": 0,
         "_deepnote_index_column": 4
        }
       ],
       "rows_bottom": null
      },
      "text/plain": "   satisfaction_level  salary  salary_high  salary_low  salary_medium\n0                0.38     low            0           1              0\n1                0.80  medium            0           0              1\n2                0.11  medium            0           0              1\n3                0.72     low            0           1              0\n4                0.37     low            0           1              0",
      "text/html": "<div>\n<style scoped>\n    .dataframe tbody tr th:only-of-type {\n        vertical-align: middle;\n    }\n\n    .dataframe tbody tr th {\n        vertical-align: top;\n    }\n\n    .dataframe thead th {\n        text-align: right;\n    }\n</style>\n<table border=\"1\" class=\"dataframe\">\n  <thead>\n    <tr style=\"text-align: right;\">\n      <th></th>\n      <th>satisfaction_level</th>\n      <th>salary</th>\n      <th>salary_high</th>\n      <th>salary_low</th>\n      <th>salary_medium</th>\n    </tr>\n  </thead>\n  <tbody>\n    <tr>\n      <th>0</th>\n      <td>0.38</td>\n      <td>low</td>\n      <td>0</td>\n      <td>1</td>\n      <td>0</td>\n    </tr>\n    <tr>\n      <th>1</th>\n      <td>0.80</td>\n      <td>medium</td>\n      <td>0</td>\n      <td>0</td>\n      <td>1</td>\n    </tr>\n    <tr>\n      <th>2</th>\n      <td>0.11</td>\n      <td>medium</td>\n      <td>0</td>\n      <td>0</td>\n      <td>1</td>\n    </tr>\n    <tr>\n      <th>3</th>\n      <td>0.72</td>\n      <td>low</td>\n      <td>0</td>\n      <td>1</td>\n      <td>0</td>\n    </tr>\n    <tr>\n      <th>4</th>\n      <td>0.37</td>\n      <td>low</td>\n      <td>0</td>\n      <td>1</td>\n      <td>0</td>\n    </tr>\n  </tbody>\n</table>\n</div>"
     },
     "metadata": {}
    }
   ],
   "execution_count": 7
  },
  {
   "cell_type": "code",
   "metadata": {
    "tags": [],
    "cell_id": "00006-927a0110-e05d-4c21-b193-55e83736ec92",
    "deepnote_to_be_reexecuted": false,
    "source_hash": "fb8136e0",
    "execution_start": 1629994064650,
    "execution_millis": 18,
    "deepnote_cell_type": "code"
   },
   "source": "df_with_dummies.drop('salary',axis='columns',inplace=True)\ndf_with_dummies.head()",
   "outputs": [
    {
     "output_type": "execute_result",
     "execution_count": 8,
     "data": {
      "application/vnd.deepnote.dataframe.v2+json": {
       "row_count": 5,
       "column_count": 4,
       "columns": [
        {
         "name": "satisfaction_level",
         "dtype": "float64",
         "stats": {
          "unique_count": 5,
          "nan_count": 0,
          "min": "0.11",
          "max": "0.8",
          "histogram": [
           {
            "bin_start": 0.11,
            "bin_end": 0.179,
            "count": 1
           },
           {
            "bin_start": 0.179,
            "bin_end": 0.248,
            "count": 0
           },
           {
            "bin_start": 0.248,
            "bin_end": 0.317,
            "count": 0
           },
           {
            "bin_start": 0.317,
            "bin_end": 0.386,
            "count": 2
           },
           {
            "bin_start": 0.386,
            "bin_end": 0.455,
            "count": 0
           },
           {
            "bin_start": 0.455,
            "bin_end": 0.524,
            "count": 0
           },
           {
            "bin_start": 0.524,
            "bin_end": 0.5930000000000001,
            "count": 0
           },
           {
            "bin_start": 0.5930000000000001,
            "bin_end": 0.662,
            "count": 0
           },
           {
            "bin_start": 0.662,
            "bin_end": 0.731,
            "count": 1
           },
           {
            "bin_start": 0.731,
            "bin_end": 0.8,
            "count": 1
           }
          ]
         }
        },
        {
         "name": "salary_high",
         "dtype": "uint8",
         "stats": {
          "unique_count": 1,
          "nan_count": 0,
          "min": "0",
          "max": "0",
          "histogram": [
           {
            "bin_start": -0.5,
            "bin_end": -0.4,
            "count": 0
           },
           {
            "bin_start": -0.4,
            "bin_end": -0.3,
            "count": 0
           },
           {
            "bin_start": -0.3,
            "bin_end": -0.19999999999999996,
            "count": 0
           },
           {
            "bin_start": -0.19999999999999996,
            "bin_end": -0.09999999999999998,
            "count": 0
           },
           {
            "bin_start": -0.09999999999999998,
            "bin_end": 0,
            "count": 0
           },
           {
            "bin_start": 0,
            "bin_end": 0.10000000000000009,
            "count": 5
           },
           {
            "bin_start": 0.10000000000000009,
            "bin_end": 0.20000000000000007,
            "count": 0
           },
           {
            "bin_start": 0.20000000000000007,
            "bin_end": 0.30000000000000004,
            "count": 0
           },
           {
            "bin_start": 0.30000000000000004,
            "bin_end": 0.4,
            "count": 0
           },
           {
            "bin_start": 0.4,
            "bin_end": 0.5,
            "count": 0
           }
          ]
         }
        },
        {
         "name": "salary_low",
         "dtype": "uint8",
         "stats": {
          "unique_count": 2,
          "nan_count": 0,
          "min": "0",
          "max": "1",
          "histogram": [
           {
            "bin_start": 0,
            "bin_end": 0.1,
            "count": 2
           },
           {
            "bin_start": 0.1,
            "bin_end": 0.2,
            "count": 0
           },
           {
            "bin_start": 0.2,
            "bin_end": 0.30000000000000004,
            "count": 0
           },
           {
            "bin_start": 0.30000000000000004,
            "bin_end": 0.4,
            "count": 0
           },
           {
            "bin_start": 0.4,
            "bin_end": 0.5,
            "count": 0
           },
           {
            "bin_start": 0.5,
            "bin_end": 0.6000000000000001,
            "count": 0
           },
           {
            "bin_start": 0.6000000000000001,
            "bin_end": 0.7000000000000001,
            "count": 0
           },
           {
            "bin_start": 0.7000000000000001,
            "bin_end": 0.8,
            "count": 0
           },
           {
            "bin_start": 0.8,
            "bin_end": 0.9,
            "count": 0
           },
           {
            "bin_start": 0.9,
            "bin_end": 1,
            "count": 3
           }
          ]
         }
        },
        {
         "name": "salary_medium",
         "dtype": "uint8",
         "stats": {
          "unique_count": 2,
          "nan_count": 0,
          "min": "0",
          "max": "1",
          "histogram": [
           {
            "bin_start": 0,
            "bin_end": 0.1,
            "count": 3
           },
           {
            "bin_start": 0.1,
            "bin_end": 0.2,
            "count": 0
           },
           {
            "bin_start": 0.2,
            "bin_end": 0.30000000000000004,
            "count": 0
           },
           {
            "bin_start": 0.30000000000000004,
            "bin_end": 0.4,
            "count": 0
           },
           {
            "bin_start": 0.4,
            "bin_end": 0.5,
            "count": 0
           },
           {
            "bin_start": 0.5,
            "bin_end": 0.6000000000000001,
            "count": 0
           },
           {
            "bin_start": 0.6000000000000001,
            "bin_end": 0.7000000000000001,
            "count": 0
           },
           {
            "bin_start": 0.7000000000000001,
            "bin_end": 0.8,
            "count": 0
           },
           {
            "bin_start": 0.8,
            "bin_end": 0.9,
            "count": 0
           },
           {
            "bin_start": 0.9,
            "bin_end": 1,
            "count": 2
           }
          ]
         }
        },
        {
         "name": "_deepnote_index_column",
         "dtype": "int64"
        }
       ],
       "rows_top": [
        {
         "satisfaction_level": 0.38,
         "salary_high": 0,
         "salary_low": 1,
         "salary_medium": 0,
         "_deepnote_index_column": 0
        },
        {
         "satisfaction_level": 0.8,
         "salary_high": 0,
         "salary_low": 0,
         "salary_medium": 1,
         "_deepnote_index_column": 1
        },
        {
         "satisfaction_level": 0.11,
         "salary_high": 0,
         "salary_low": 0,
         "salary_medium": 1,
         "_deepnote_index_column": 2
        },
        {
         "satisfaction_level": 0.72,
         "salary_high": 0,
         "salary_low": 1,
         "salary_medium": 0,
         "_deepnote_index_column": 3
        },
        {
         "satisfaction_level": 0.37,
         "salary_high": 0,
         "salary_low": 1,
         "salary_medium": 0,
         "_deepnote_index_column": 4
        }
       ],
       "rows_bottom": null
      },
      "text/plain": "   satisfaction_level  salary_high  salary_low  salary_medium\n0                0.38            0           1              0\n1                0.80            0           0              1\n2                0.11            0           0              1\n3                0.72            0           1              0\n4                0.37            0           1              0",
      "text/html": "<div>\n<style scoped>\n    .dataframe tbody tr th:only-of-type {\n        vertical-align: middle;\n    }\n\n    .dataframe tbody tr th {\n        vertical-align: top;\n    }\n\n    .dataframe thead th {\n        text-align: right;\n    }\n</style>\n<table border=\"1\" class=\"dataframe\">\n  <thead>\n    <tr style=\"text-align: right;\">\n      <th></th>\n      <th>satisfaction_level</th>\n      <th>salary_high</th>\n      <th>salary_low</th>\n      <th>salary_medium</th>\n    </tr>\n  </thead>\n  <tbody>\n    <tr>\n      <th>0</th>\n      <td>0.38</td>\n      <td>0</td>\n      <td>1</td>\n      <td>0</td>\n    </tr>\n    <tr>\n      <th>1</th>\n      <td>0.80</td>\n      <td>0</td>\n      <td>0</td>\n      <td>1</td>\n    </tr>\n    <tr>\n      <th>2</th>\n      <td>0.11</td>\n      <td>0</td>\n      <td>0</td>\n      <td>1</td>\n    </tr>\n    <tr>\n      <th>3</th>\n      <td>0.72</td>\n      <td>0</td>\n      <td>1</td>\n      <td>0</td>\n    </tr>\n    <tr>\n      <th>4</th>\n      <td>0.37</td>\n      <td>0</td>\n      <td>1</td>\n      <td>0</td>\n    </tr>\n  </tbody>\n</table>\n</div>"
     },
     "metadata": {}
    }
   ],
   "execution_count": 8
  },
  {
   "cell_type": "code",
   "metadata": {
    "tags": [],
    "cell_id": "00007-7e59a002-2d2f-49f7-a5e5-31c38f176d58",
    "deepnote_to_be_reexecuted": false,
    "source_hash": "6263df82",
    "execution_start": 1629994064664,
    "execution_millis": 27,
    "deepnote_cell_type": "code"
   },
   "source": "X = df_with_dummies\nX.head()",
   "outputs": [
    {
     "output_type": "execute_result",
     "execution_count": 9,
     "data": {
      "application/vnd.deepnote.dataframe.v2+json": {
       "row_count": 5,
       "column_count": 4,
       "columns": [
        {
         "name": "satisfaction_level",
         "dtype": "float64",
         "stats": {
          "unique_count": 5,
          "nan_count": 0,
          "min": "0.11",
          "max": "0.8",
          "histogram": [
           {
            "bin_start": 0.11,
            "bin_end": 0.179,
            "count": 1
           },
           {
            "bin_start": 0.179,
            "bin_end": 0.248,
            "count": 0
           },
           {
            "bin_start": 0.248,
            "bin_end": 0.317,
            "count": 0
           },
           {
            "bin_start": 0.317,
            "bin_end": 0.386,
            "count": 2
           },
           {
            "bin_start": 0.386,
            "bin_end": 0.455,
            "count": 0
           },
           {
            "bin_start": 0.455,
            "bin_end": 0.524,
            "count": 0
           },
           {
            "bin_start": 0.524,
            "bin_end": 0.5930000000000001,
            "count": 0
           },
           {
            "bin_start": 0.5930000000000001,
            "bin_end": 0.662,
            "count": 0
           },
           {
            "bin_start": 0.662,
            "bin_end": 0.731,
            "count": 1
           },
           {
            "bin_start": 0.731,
            "bin_end": 0.8,
            "count": 1
           }
          ]
         }
        },
        {
         "name": "salary_high",
         "dtype": "uint8",
         "stats": {
          "unique_count": 1,
          "nan_count": 0,
          "min": "0",
          "max": "0",
          "histogram": [
           {
            "bin_start": -0.5,
            "bin_end": -0.4,
            "count": 0
           },
           {
            "bin_start": -0.4,
            "bin_end": -0.3,
            "count": 0
           },
           {
            "bin_start": -0.3,
            "bin_end": -0.19999999999999996,
            "count": 0
           },
           {
            "bin_start": -0.19999999999999996,
            "bin_end": -0.09999999999999998,
            "count": 0
           },
           {
            "bin_start": -0.09999999999999998,
            "bin_end": 0,
            "count": 0
           },
           {
            "bin_start": 0,
            "bin_end": 0.10000000000000009,
            "count": 5
           },
           {
            "bin_start": 0.10000000000000009,
            "bin_end": 0.20000000000000007,
            "count": 0
           },
           {
            "bin_start": 0.20000000000000007,
            "bin_end": 0.30000000000000004,
            "count": 0
           },
           {
            "bin_start": 0.30000000000000004,
            "bin_end": 0.4,
            "count": 0
           },
           {
            "bin_start": 0.4,
            "bin_end": 0.5,
            "count": 0
           }
          ]
         }
        },
        {
         "name": "salary_low",
         "dtype": "uint8",
         "stats": {
          "unique_count": 2,
          "nan_count": 0,
          "min": "0",
          "max": "1",
          "histogram": [
           {
            "bin_start": 0,
            "bin_end": 0.1,
            "count": 2
           },
           {
            "bin_start": 0.1,
            "bin_end": 0.2,
            "count": 0
           },
           {
            "bin_start": 0.2,
            "bin_end": 0.30000000000000004,
            "count": 0
           },
           {
            "bin_start": 0.30000000000000004,
            "bin_end": 0.4,
            "count": 0
           },
           {
            "bin_start": 0.4,
            "bin_end": 0.5,
            "count": 0
           },
           {
            "bin_start": 0.5,
            "bin_end": 0.6000000000000001,
            "count": 0
           },
           {
            "bin_start": 0.6000000000000001,
            "bin_end": 0.7000000000000001,
            "count": 0
           },
           {
            "bin_start": 0.7000000000000001,
            "bin_end": 0.8,
            "count": 0
           },
           {
            "bin_start": 0.8,
            "bin_end": 0.9,
            "count": 0
           },
           {
            "bin_start": 0.9,
            "bin_end": 1,
            "count": 3
           }
          ]
         }
        },
        {
         "name": "salary_medium",
         "dtype": "uint8",
         "stats": {
          "unique_count": 2,
          "nan_count": 0,
          "min": "0",
          "max": "1",
          "histogram": [
           {
            "bin_start": 0,
            "bin_end": 0.1,
            "count": 3
           },
           {
            "bin_start": 0.1,
            "bin_end": 0.2,
            "count": 0
           },
           {
            "bin_start": 0.2,
            "bin_end": 0.30000000000000004,
            "count": 0
           },
           {
            "bin_start": 0.30000000000000004,
            "bin_end": 0.4,
            "count": 0
           },
           {
            "bin_start": 0.4,
            "bin_end": 0.5,
            "count": 0
           },
           {
            "bin_start": 0.5,
            "bin_end": 0.6000000000000001,
            "count": 0
           },
           {
            "bin_start": 0.6000000000000001,
            "bin_end": 0.7000000000000001,
            "count": 0
           },
           {
            "bin_start": 0.7000000000000001,
            "bin_end": 0.8,
            "count": 0
           },
           {
            "bin_start": 0.8,
            "bin_end": 0.9,
            "count": 0
           },
           {
            "bin_start": 0.9,
            "bin_end": 1,
            "count": 2
           }
          ]
         }
        },
        {
         "name": "_deepnote_index_column",
         "dtype": "int64"
        }
       ],
       "rows_top": [
        {
         "satisfaction_level": 0.38,
         "salary_high": 0,
         "salary_low": 1,
         "salary_medium": 0,
         "_deepnote_index_column": 0
        },
        {
         "satisfaction_level": 0.8,
         "salary_high": 0,
         "salary_low": 0,
         "salary_medium": 1,
         "_deepnote_index_column": 1
        },
        {
         "satisfaction_level": 0.11,
         "salary_high": 0,
         "salary_low": 0,
         "salary_medium": 1,
         "_deepnote_index_column": 2
        },
        {
         "satisfaction_level": 0.72,
         "salary_high": 0,
         "salary_low": 1,
         "salary_medium": 0,
         "_deepnote_index_column": 3
        },
        {
         "satisfaction_level": 0.37,
         "salary_high": 0,
         "salary_low": 1,
         "salary_medium": 0,
         "_deepnote_index_column": 4
        }
       ],
       "rows_bottom": null
      },
      "text/plain": "   satisfaction_level  salary_high  salary_low  salary_medium\n0                0.38            0           1              0\n1                0.80            0           0              1\n2                0.11            0           0              1\n3                0.72            0           1              0\n4                0.37            0           1              0",
      "text/html": "<div>\n<style scoped>\n    .dataframe tbody tr th:only-of-type {\n        vertical-align: middle;\n    }\n\n    .dataframe tbody tr th {\n        vertical-align: top;\n    }\n\n    .dataframe thead th {\n        text-align: right;\n    }\n</style>\n<table border=\"1\" class=\"dataframe\">\n  <thead>\n    <tr style=\"text-align: right;\">\n      <th></th>\n      <th>satisfaction_level</th>\n      <th>salary_high</th>\n      <th>salary_low</th>\n      <th>salary_medium</th>\n    </tr>\n  </thead>\n  <tbody>\n    <tr>\n      <th>0</th>\n      <td>0.38</td>\n      <td>0</td>\n      <td>1</td>\n      <td>0</td>\n    </tr>\n    <tr>\n      <th>1</th>\n      <td>0.80</td>\n      <td>0</td>\n      <td>0</td>\n      <td>1</td>\n    </tr>\n    <tr>\n      <th>2</th>\n      <td>0.11</td>\n      <td>0</td>\n      <td>0</td>\n      <td>1</td>\n    </tr>\n    <tr>\n      <th>3</th>\n      <td>0.72</td>\n      <td>0</td>\n      <td>1</td>\n      <td>0</td>\n    </tr>\n    <tr>\n      <th>4</th>\n      <td>0.37</td>\n      <td>0</td>\n      <td>1</td>\n      <td>0</td>\n    </tr>\n  </tbody>\n</table>\n</div>"
     },
     "metadata": {}
    }
   ],
   "execution_count": 9
  },
  {
   "cell_type": "code",
   "metadata": {
    "tags": [],
    "cell_id": "00008-03dfa232-94cc-4689-bf81-a94943ef5f12",
    "deepnote_to_be_reexecuted": false,
    "source_hash": "5aeee403",
    "execution_start": 1629994064688,
    "execution_millis": 3,
    "deepnote_cell_type": "code"
   },
   "source": "y = df.left",
   "execution_count": 10,
   "outputs": []
  },
  {
   "cell_type": "code",
   "source": "# 请完成逻辑回归模型的搭建\n# 分出训练集和测试集\n# 训练逻辑回归模型\n# 预测测试集数据\n# 得出模型准确率评估\n# 恭喜你完成本次的逻辑回归小练习啦🎉",
   "metadata": {
    "tags": [],
    "cell_id": "00010-84f1d1d7-31ae-4279-a212-26eb6de0c53a",
    "deepnote_to_be_reexecuted": false,
    "source_hash": "1f1d88b8",
    "execution_start": 1629994064738,
    "execution_millis": 0,
    "deepnote_cell_type": "code"
   },
   "outputs": [],
   "execution_count": 11
  },
  {
   "cell_type": "markdown",
   "source": "<a style='text-decoration:none;line-height:16px;display:flex;color:#5B5B62;padding:10px;justify-content:end;' href='https://deepnote.com?utm_source=created-in-deepnote-cell&projectId=f46f3040-da69-4700-9777-62f3d4cb88ab' target=\"_blank\">\n<img alt='Created in deepnote.com' style='display:inline;max-height:16px;margin:0px;margin-right:7.5px;' src='data:image/svg+xml;base64,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' > </img>\nCreated in <span style='font-weight:600;margin-left:4px;'>Deepnote</span></a>",
   "metadata": {
    "tags": [],
    "created_in_deepnote_cell": true,
    "deepnote_cell_type": "markdown"
   }
  }
 ],
 "nbformat": 4,
 "nbformat_minor": 2,
 "metadata": {
  "orig_nbformat": 2,
  "deepnote": {
   "is_reactive": false
  },
  "deepnote_notebook_id": "fc85a481-df9f-4f10-93aa-79e86811fbe1",
  "deepnote_execution_queue": []
 }
}