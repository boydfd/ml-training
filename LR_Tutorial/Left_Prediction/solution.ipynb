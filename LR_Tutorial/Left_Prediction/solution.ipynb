{
 "cells": [
  {
   "cell_type": "code",
   "metadata": {
    "tags": [],
    "cell_id": "00000-4bca2e40-16ef-4843-b3e4-54da943f1a43",
    "deepnote_to_be_reexecuted": false,
    "source_hash": "b704c38c",
    "execution_start": 1629992299458,
    "execution_millis": 303,
    "deepnote_cell_type": "code"
   },
   "source": "import pandas as pd\nfrom matplotlib import pyplot as plt\n\ndf = pd.read_csv(\"HR_comma_sep.csv\")\ndf.head()\n",
   "outputs": [
    {
     "output_type": "execute_result",
     "execution_count": 1,
     "data": {
      "application/vnd.deepnote.dataframe.v2+json": {
       "row_count": 5,
       "column_count": 10,
       "columns": [
        {
         "name": "satisfaction_level",
         "dtype": "float64",
         "stats": {
          "unique_count": 5,
          "nan_count": 0,
          "min": "0.11",
          "max": "0.8",
          "histogram": [
           {
            "bin_start": 0.11,
            "bin_end": 0.179,
            "count": 1
           },
           {
            "bin_start": 0.179,
            "bin_end": 0.248,
            "count": 0
           },
           {
            "bin_start": 0.248,
            "bin_end": 0.317,
            "count": 0
           },
           {
            "bin_start": 0.317,
            "bin_end": 0.386,
            "count": 2
           },
           {
            "bin_start": 0.386,
            "bin_end": 0.455,
            "count": 0
           },
           {
            "bin_start": 0.455,
            "bin_end": 0.524,
            "count": 0
           },
           {
            "bin_start": 0.524,
            "bin_end": 0.5930000000000001,
            "count": 0
           },
           {
            "bin_start": 0.5930000000000001,
            "bin_end": 0.662,
            "count": 0
           },
           {
            "bin_start": 0.662,
            "bin_end": 0.731,
            "count": 1
           },
           {
            "bin_start": 0.731,
            "bin_end": 0.8,
            "count": 1
           }
          ]
         }
        },
        {
         "name": "last_evaluation",
         "dtype": "float64",
         "stats": {
          "unique_count": 5,
          "nan_count": 0,
          "min": "0.52",
          "max": "0.88",
          "histogram": [
           {
            "bin_start": 0.52,
            "bin_end": 0.556,
            "count": 2
           },
           {
            "bin_start": 0.556,
            "bin_end": 0.592,
            "count": 0
           },
           {
            "bin_start": 0.592,
            "bin_end": 0.628,
            "count": 0
           },
           {
            "bin_start": 0.628,
            "bin_end": 0.664,
            "count": 0
           },
           {
            "bin_start": 0.664,
            "bin_end": 0.7,
            "count": 0
           },
           {
            "bin_start": 0.7,
            "bin_end": 0.736,
            "count": 0
           },
           {
            "bin_start": 0.736,
            "bin_end": 0.772,
            "count": 0
           },
           {
            "bin_start": 0.772,
            "bin_end": 0.808,
            "count": 0
           },
           {
            "bin_start": 0.808,
            "bin_end": 0.844,
            "count": 0
           },
           {
            "bin_start": 0.844,
            "bin_end": 0.88,
            "count": 3
           }
          ]
         }
        },
        {
         "name": "number_project",
         "dtype": "int64",
         "stats": {
          "unique_count": 3,
          "nan_count": 0,
          "min": "2",
          "max": "7",
          "histogram": [
           {
            "bin_start": 2,
            "bin_end": 2.5,
            "count": 2
           },
           {
            "bin_start": 2.5,
            "bin_end": 3,
            "count": 0
           },
           {
            "bin_start": 3,
            "bin_end": 3.5,
            "count": 0
           },
           {
            "bin_start": 3.5,
            "bin_end": 4,
            "count": 0
           },
           {
            "bin_start": 4,
            "bin_end": 4.5,
            "count": 0
           },
           {
            "bin_start": 4.5,
            "bin_end": 5,
            "count": 0
           },
           {
            "bin_start": 5,
            "bin_end": 5.5,
            "count": 2
           },
           {
            "bin_start": 5.5,
            "bin_end": 6,
            "count": 0
           },
           {
            "bin_start": 6,
            "bin_end": 6.5,
            "count": 0
           },
           {
            "bin_start": 6.5,
            "bin_end": 7,
            "count": 1
           }
          ]
         }
        },
        {
         "name": "average_montly_hours",
         "dtype": "int64",
         "stats": {
          "unique_count": 5,
          "nan_count": 0,
          "min": "157",
          "max": "272",
          "histogram": [
           {
            "bin_start": 157,
            "bin_end": 168.5,
            "count": 2
           },
           {
            "bin_start": 168.5,
            "bin_end": 180,
            "count": 0
           },
           {
            "bin_start": 180,
            "bin_end": 191.5,
            "count": 0
           },
           {
            "bin_start": 191.5,
            "bin_end": 203,
            "count": 0
           },
           {
            "bin_start": 203,
            "bin_end": 214.5,
            "count": 0
           },
           {
            "bin_start": 214.5,
            "bin_end": 226,
            "count": 1
           },
           {
            "bin_start": 226,
            "bin_end": 237.5,
            "count": 0
           },
           {
            "bin_start": 237.5,
            "bin_end": 249,
            "count": 0
           },
           {
            "bin_start": 249,
            "bin_end": 260.5,
            "count": 0
           },
           {
            "bin_start": 260.5,
            "bin_end": 272,
            "count": 2
           }
          ]
         }
        },
        {
         "name": "time_spend_company",
         "dtype": "int64",
         "stats": {
          "unique_count": 4,
          "nan_count": 0,
          "min": "3",
          "max": "6",
          "histogram": [
           {
            "bin_start": 3,
            "bin_end": 3.3,
            "count": 2
           },
           {
            "bin_start": 3.3,
            "bin_end": 3.6,
            "count": 0
           },
           {
            "bin_start": 3.6,
            "bin_end": 3.9,
            "count": 0
           },
           {
            "bin_start": 3.9,
            "bin_end": 4.2,
            "count": 1
           },
           {
            "bin_start": 4.2,
            "bin_end": 4.5,
            "count": 0
           },
           {
            "bin_start": 4.5,
            "bin_end": 4.8,
            "count": 0
           },
           {
            "bin_start": 4.8,
            "bin_end": 5.1,
            "count": 1
           },
           {
            "bin_start": 5.1,
            "bin_end": 5.4,
            "count": 0
           },
           {
            "bin_start": 5.4,
            "bin_end": 5.699999999999999,
            "count": 0
           },
           {
            "bin_start": 5.699999999999999,
            "bin_end": 6,
            "count": 1
           }
          ]
         }
        },
        {
         "name": "Work_accident",
         "dtype": "int64",
         "stats": {
          "unique_count": 1,
          "nan_count": 0,
          "min": "0",
          "max": "0",
          "histogram": [
           {
            "bin_start": -0.5,
            "bin_end": -0.4,
            "count": 0
           },
           {
            "bin_start": -0.4,
            "bin_end": -0.3,
            "count": 0
           },
           {
            "bin_start": -0.3,
            "bin_end": -0.19999999999999996,
            "count": 0
           },
           {
            "bin_start": -0.19999999999999996,
            "bin_end": -0.09999999999999998,
            "count": 0
           },
           {
            "bin_start": -0.09999999999999998,
            "bin_end": 0,
            "count": 0
           },
           {
            "bin_start": 0,
            "bin_end": 0.10000000000000009,
            "count": 5
           },
           {
            "bin_start": 0.10000000000000009,
            "bin_end": 0.20000000000000007,
            "count": 0
           },
           {
            "bin_start": 0.20000000000000007,
            "bin_end": 0.30000000000000004,
            "count": 0
           },
           {
            "bin_start": 0.30000000000000004,
            "bin_end": 0.4,
            "count": 0
           },
           {
            "bin_start": 0.4,
            "bin_end": 0.5,
            "count": 0
           }
          ]
         }
        },
        {
         "name": "left",
         "dtype": "int64",
         "stats": {
          "unique_count": 1,
          "nan_count": 0,
          "min": "1",
          "max": "1",
          "histogram": [
           {
            "bin_start": 0.5,
            "bin_end": 0.6,
            "count": 0
           },
           {
            "bin_start": 0.6,
            "bin_end": 0.7,
            "count": 0
           },
           {
            "bin_start": 0.7,
            "bin_end": 0.8,
            "count": 0
           },
           {
            "bin_start": 0.8,
            "bin_end": 0.9,
            "count": 0
           },
           {
            "bin_start": 0.9,
            "bin_end": 1,
            "count": 0
           },
           {
            "bin_start": 1,
            "bin_end": 1.1,
            "count": 5
           },
           {
            "bin_start": 1.1,
            "bin_end": 1.2000000000000002,
            "count": 0
           },
           {
            "bin_start": 1.2000000000000002,
            "bin_end": 1.3,
            "count": 0
           },
           {
            "bin_start": 1.3,
            "bin_end": 1.4,
            "count": 0
           },
           {
            "bin_start": 1.4,
            "bin_end": 1.5,
            "count": 0
           }
          ]
         }
        },
        {
         "name": "promotion_last_5years",
         "dtype": "int64",
         "stats": {
          "unique_count": 1,
          "nan_count": 0,
          "min": "0",
          "max": "0",
          "histogram": [
           {
            "bin_start": -0.5,
            "bin_end": -0.4,
            "count": 0
           },
           {
            "bin_start": -0.4,
            "bin_end": -0.3,
            "count": 0
           },
           {
            "bin_start": -0.3,
            "bin_end": -0.19999999999999996,
            "count": 0
           },
           {
            "bin_start": -0.19999999999999996,
            "bin_end": -0.09999999999999998,
            "count": 0
           },
           {
            "bin_start": -0.09999999999999998,
            "bin_end": 0,
            "count": 0
           },
           {
            "bin_start": 0,
            "bin_end": 0.10000000000000009,
            "count": 5
           },
           {
            "bin_start": 0.10000000000000009,
            "bin_end": 0.20000000000000007,
            "count": 0
           },
           {
            "bin_start": 0.20000000000000007,
            "bin_end": 0.30000000000000004,
            "count": 0
           },
           {
            "bin_start": 0.30000000000000004,
            "bin_end": 0.4,
            "count": 0
           },
           {
            "bin_start": 0.4,
            "bin_end": 0.5,
            "count": 0
           }
          ]
         }
        },
        {
         "name": "Department",
         "dtype": "object",
         "stats": {
          "unique_count": 1,
          "nan_count": 0,
          "categories": [
           {
            "name": "sales",
            "count": 5
           }
          ]
         }
        },
        {
         "name": "salary",
         "dtype": "object",
         "stats": {
          "unique_count": 2,
          "nan_count": 0,
          "categories": [
           {
            "name": "low",
            "count": 3
           },
           {
            "name": "medium",
            "count": 2
           }
          ]
         }
        },
        {
         "name": "_deepnote_index_column",
         "dtype": "int64"
        }
       ],
       "rows_top": [
        {
         "satisfaction_level": 0.38,
         "last_evaluation": 0.53,
         "number_project": 2,
         "average_montly_hours": 157,
         "time_spend_company": 3,
         "Work_accident": 0,
         "left": 1,
         "promotion_last_5years": 0,
         "Department": "sales",
         "salary": "low",
         "_deepnote_index_column": 0
        },
        {
         "satisfaction_level": 0.8,
         "last_evaluation": 0.86,
         "number_project": 5,
         "average_montly_hours": 262,
         "time_spend_company": 6,
         "Work_accident": 0,
         "left": 1,
         "promotion_last_5years": 0,
         "Department": "sales",
         "salary": "medium",
         "_deepnote_index_column": 1
        },
        {
         "satisfaction_level": 0.11,
         "last_evaluation": 0.88,
         "number_project": 7,
         "average_montly_hours": 272,
         "time_spend_company": 4,
         "Work_accident": 0,
         "left": 1,
         "promotion_last_5years": 0,
         "Department": "sales",
         "salary": "medium",
         "_deepnote_index_column": 2
        },
        {
         "satisfaction_level": 0.72,
         "last_evaluation": 0.87,
         "number_project": 5,
         "average_montly_hours": 223,
         "time_spend_company": 5,
         "Work_accident": 0,
         "left": 1,
         "promotion_last_5years": 0,
         "Department": "sales",
         "salary": "low",
         "_deepnote_index_column": 3
        },
        {
         "satisfaction_level": 0.37,
         "last_evaluation": 0.52,
         "number_project": 2,
         "average_montly_hours": 159,
         "time_spend_company": 3,
         "Work_accident": 0,
         "left": 1,
         "promotion_last_5years": 0,
         "Department": "sales",
         "salary": "low",
         "_deepnote_index_column": 4
        }
       ],
       "rows_bottom": null
      },
      "text/plain": "   satisfaction_level  last_evaluation  number_project  average_montly_hours  \\\n0                0.38             0.53               2                   157   \n1                0.80             0.86               5                   262   \n2                0.11             0.88               7                   272   \n3                0.72             0.87               5                   223   \n4                0.37             0.52               2                   159   \n\n   time_spend_company  Work_accident  left  promotion_last_5years Department  \\\n0                   3              0     1                      0      sales   \n1                   6              0     1                      0      sales   \n2                   4              0     1                      0      sales   \n3                   5              0     1                      0      sales   \n4                   3              0     1                      0      sales   \n\n   salary  \n0     low  \n1  medium  \n2  medium  \n3     low  \n4     low  ",
      "text/html": "<div>\n<style scoped>\n    .dataframe tbody tr th:only-of-type {\n        vertical-align: middle;\n    }\n\n    .dataframe tbody tr th {\n        vertical-align: top;\n    }\n\n    .dataframe thead th {\n        text-align: right;\n    }\n</style>\n<table border=\"1\" class=\"dataframe\">\n  <thead>\n    <tr style=\"text-align: right;\">\n      <th></th>\n      <th>satisfaction_level</th>\n      <th>last_evaluation</th>\n      <th>number_project</th>\n      <th>average_montly_hours</th>\n      <th>time_spend_company</th>\n      <th>Work_accident</th>\n      <th>left</th>\n      <th>promotion_last_5years</th>\n      <th>Department</th>\n      <th>salary</th>\n    </tr>\n  </thead>\n  <tbody>\n    <tr>\n      <th>0</th>\n      <td>0.38</td>\n      <td>0.53</td>\n      <td>2</td>\n      <td>157</td>\n      <td>3</td>\n      <td>0</td>\n      <td>1</td>\n      <td>0</td>\n      <td>sales</td>\n      <td>low</td>\n    </tr>\n    <tr>\n      <th>1</th>\n      <td>0.80</td>\n      <td>0.86</td>\n      <td>5</td>\n      <td>262</td>\n      <td>6</td>\n      <td>0</td>\n      <td>1</td>\n      <td>0</td>\n      <td>sales</td>\n      <td>medium</td>\n    </tr>\n    <tr>\n      <th>2</th>\n      <td>0.11</td>\n      <td>0.88</td>\n      <td>7</td>\n      <td>272</td>\n      <td>4</td>\n      <td>0</td>\n      <td>1</td>\n      <td>0</td>\n      <td>sales</td>\n      <td>medium</td>\n    </tr>\n    <tr>\n      <th>3</th>\n      <td>0.72</td>\n      <td>0.87</td>\n      <td>5</td>\n      <td>223</td>\n      <td>5</td>\n      <td>0</td>\n      <td>1</td>\n      <td>0</td>\n      <td>sales</td>\n      <td>low</td>\n    </tr>\n    <tr>\n      <th>4</th>\n      <td>0.37</td>\n      <td>0.52</td>\n      <td>2</td>\n      <td>159</td>\n      <td>3</td>\n      <td>0</td>\n      <td>1</td>\n      <td>0</td>\n      <td>sales</td>\n      <td>low</td>\n    </tr>\n  </tbody>\n</table>\n</div>"
     },
     "metadata": {}
    }
   ],
   "execution_count": null
  },
  {
   "cell_type": "code",
   "metadata": {
    "tags": [],
    "cell_id": "00001-73131848-8991-44f6-b661-2a2ae01b8208",
    "deepnote_to_be_reexecuted": false,
    "source_hash": "14f60b8f",
    "execution_start": 1629992299759,
    "execution_millis": 15,
    "deepnote_cell_type": "code"
   },
   "source": "df.shape",
   "outputs": [
    {
     "output_type": "execute_result",
     "execution_count": 2,
     "data": {
      "text/plain": "(14999, 10)"
     },
     "metadata": {}
    }
   ],
   "execution_count": null
  },
  {
   "cell_type": "code",
   "metadata": {
    "tags": [],
    "cell_id": "00002-b9488ae6-6da6-4e86-8ae9-17b4711de1ac",
    "deepnote_to_be_reexecuted": false,
    "source_hash": "e5bfe0c1",
    "execution_start": 1629992299771,
    "execution_millis": 18,
    "deepnote_cell_type": "code"
   },
   "source": "left = df[df.left==1]\nleft.shape",
   "outputs": [
    {
     "output_type": "execute_result",
     "execution_count": 3,
     "data": {
      "text/plain": "(3571, 10)"
     },
     "metadata": {}
    }
   ],
   "execution_count": null
  },
  {
   "cell_type": "code",
   "metadata": {
    "tags": [],
    "cell_id": "00003-d7c1662a-6f1b-4ae3-915a-ffc5f55c88c4",
    "deepnote_to_be_reexecuted": false,
    "source_hash": "e51b6519",
    "execution_start": 1629992299784,
    "execution_millis": 19,
    "deepnote_cell_type": "code"
   },
   "source": "retained = df[df.left==0]\nretained.shape",
   "outputs": [
    {
     "output_type": "execute_result",
     "execution_count": 4,
     "data": {
      "text/plain": "(11428, 10)"
     },
     "metadata": {}
    }
   ],
   "execution_count": null
  },
  {
   "cell_type": "code",
   "metadata": {
    "tags": [],
    "cell_id": "00004-a2cf30a4-9158-44ef-9ba7-7dd758df4e75",
    "deepnote_to_be_reexecuted": false,
    "source_hash": "2f07585c",
    "execution_start": 1629992299800,
    "execution_millis": 241,
    "deepnote_cell_type": "code"
   },
   "source": "df.groupby('left').mean()\npd.crosstab(df.salary,df.left).plot(kind='bar')",
   "outputs": [
    {
     "output_type": "execute_result",
     "execution_count": 5,
     "data": {
      "text/plain": "<AxesSubplot:xlabel='salary'>"
     },
     "metadata": {}
    },
    {
     "data": {
      "text/plain": "<Figure size 432x288 with 1 Axes>",
      "image/png": "[encoded data removed]"
     },
     "metadata": {
      "needs_background": "light",
      "image/png": {
       "width": 381,
       "height": 293
      }
     },
     "output_type": "display_data"
    }
   ],
   "execution_count": null
  },
  {
   "cell_type": "code",
   "metadata": {
    "tags": [],
    "cell_id": "00004-652fc84c-1f0e-4573-a128-3d6d0c221f18",
    "deepnote_to_be_reexecuted": false,
    "source_hash": "8b6b21fe",
    "execution_start": 1629992300085,
    "execution_millis": 188,
    "deepnote_cell_type": "code"
   },
   "source": "pd.crosstab(df.number_project,df.left).plot(kind='bar')\n",
   "outputs": [
    {
     "output_type": "execute_result",
     "execution_count": 6,
     "data": {
      "text/plain": "<AxesSubplot:xlabel='number_project'>"
     },
     "metadata": {}
    },
    {
     "data": {
      "text/plain": "<Figure size 432x288 with 1 Axes>",
      "image/png": "[encoded data removed]"
     },
     "metadata": {
      "needs_background": "light",
      "image/png": {
       "width": 381,
       "height": 260
      }
     },
     "output_type": "display_data"
    }
   ],
   "execution_count": null
  },
  {
   "cell_type": "code",
   "metadata": {
    "tags": [],
    "cell_id": "00001-468bbdf8-a586-4c0d-b1c2-367d81c8236e",
    "deepnote_to_be_reexecuted": false,
    "source_hash": "4883dd58",
    "execution_start": 1629992300313,
    "execution_millis": 238,
    "deepnote_cell_type": "code"
   },
   "source": "pd.crosstab(df.Department,df.left).plot(kind='bar')\n",
   "outputs": [
    {
     "output_type": "execute_result",
     "execution_count": 7,
     "data": {
      "text/plain": "<AxesSubplot:xlabel='Department'>"
     },
     "metadata": {}
    },
    {
     "data": {
      "text/plain": "<Figure size 432x288 with 1 Axes>",
      "image/png": "[encoded data removed]"
     },
     "metadata": {
      "needs_background": "light",
      "image/png": {
       "width": 381,
       "height": 319
      }
     },
     "output_type": "display_data"
    }
   ],
   "execution_count": null
  },
  {
   "cell_type": "code",
   "metadata": {
    "tags": [],
    "cell_id": "00002-f4151ea4-f303-4140-863d-f96c506b01ed",
    "deepnote_to_be_reexecuted": false,
    "source_hash": "3b4f806b",
    "execution_start": 1629992300555,
    "execution_millis": 21,
    "deepnote_cell_type": "code"
   },
   "source": "\nsubdf = df[['satisfaction_level','average_montly_hours','promotion_last_5years','salary']]\nsubdf.head()",
   "outputs": [
    {
     "output_type": "execute_result",
     "execution_count": 8,
     "data": {
      "application/vnd.deepnote.dataframe.v2+json": {
       "row_count": 5,
       "column_count": 4,
       "columns": [
        {
         "name": "satisfaction_level",
         "dtype": "float64",
         "stats": {
          "unique_count": 5,
          "nan_count": 0,
          "min": "0.11",
          "max": "0.8",
          "histogram": [
           {
            "bin_start": 0.11,
            "bin_end": 0.179,
            "count": 1
           },
           {
            "bin_start": 0.179,
            "bin_end": 0.248,
            "count": 0
           },
           {
            "bin_start": 0.248,
            "bin_end": 0.317,
            "count": 0
           },
           {
            "bin_start": 0.317,
            "bin_end": 0.386,
            "count": 2
           },
           {
            "bin_start": 0.386,
            "bin_end": 0.455,
            "count": 0
           },
           {
            "bin_start": 0.455,
            "bin_end": 0.524,
            "count": 0
           },
           {
            "bin_start": 0.524,
            "bin_end": 0.5930000000000001,
            "count": 0
           },
           {
            "bin_start": 0.5930000000000001,
            "bin_end": 0.662,
            "count": 0
           },
           {
            "bin_start": 0.662,
            "bin_end": 0.731,
            "count": 1
           },
           {
            "bin_start": 0.731,
            "bin_end": 0.8,
            "count": 1
           }
          ]
         }
        },
        {
         "name": "average_montly_hours",
         "dtype": "int64",
         "stats": {
          "unique_count": 5,
          "nan_count": 0,
          "min": "157",
          "max": "272",
          "histogram": [
           {
            "bin_start": 157,
            "bin_end": 168.5,
            "count": 2
           },
           {
            "bin_start": 168.5,
            "bin_end": 180,
            "count": 0
           },
           {
            "bin_start": 180,
            "bin_end": 191.5,
            "count": 0
           },
           {
            "bin_start": 191.5,
            "bin_end": 203,
            "count": 0
           },
           {
            "bin_start": 203,
            "bin_end": 214.5,
            "count": 0
           },
           {
            "bin_start": 214.5,
            "bin_end": 226,
            "count": 1
           },
           {
            "bin_start": 226,
            "bin_end": 237.5,
            "count": 0
           },
           {
            "bin_start": 237.5,
            "bin_end": 249,
            "count": 0
           },
           {
            "bin_start": 249,
            "bin_end": 260.5,
            "count": 0
           },
           {
            "bin_start": 260.5,
            "bin_end": 272,
            "count": 2
           }
          ]
         }
        },
        {
         "name": "promotion_last_5years",
         "dtype": "int64",
         "stats": {
          "unique_count": 1,
          "nan_count": 0,
          "min": "0",
          "max": "0",
          "histogram": [
           {
            "bin_start": -0.5,
            "bin_end": -0.4,
            "count": 0
           },
           {
            "bin_start": -0.4,
            "bin_end": -0.3,
            "count": 0
           },
           {
            "bin_start": -0.3,
            "bin_end": -0.19999999999999996,
            "count": 0
           },
           {
            "bin_start": -0.19999999999999996,
            "bin_end": -0.09999999999999998,
            "count": 0
           },
           {
            "bin_start": -0.09999999999999998,
            "bin_end": 0,
            "count": 0
           },
           {
            "bin_start": 0,
            "bin_end": 0.10000000000000009,
            "count": 5
           },
           {
            "bin_start": 0.10000000000000009,
            "bin_end": 0.20000000000000007,
            "count": 0
           },
           {
            "bin_start": 0.20000000000000007,
            "bin_end": 0.30000000000000004,
            "count": 0
           },
           {
            "bin_start": 0.30000000000000004,
            "bin_end": 0.4,
            "count": 0
           },
           {
            "bin_start": 0.4,
            "bin_end": 0.5,
            "count": 0
           }
          ]
         }
        },
        {
         "name": "salary",
         "dtype": "object",
         "stats": {
          "unique_count": 2,
          "nan_count": 0,
          "categories": [
           {
            "name": "low",
            "count": 3
           },
           {
            "name": "medium",
            "count": 2
           }
          ]
         }
        },
        {
         "name": "_deepnote_index_column",
         "dtype": "int64"
        }
       ],
       "rows_top": [
        {
         "satisfaction_level": 0.38,
         "average_montly_hours": 157,
         "promotion_last_5years": 0,
         "salary": "low",
         "_deepnote_index_column": 0
        },
        {
         "satisfaction_level": 0.8,
         "average_montly_hours": 262,
         "promotion_last_5years": 0,
         "salary": "medium",
         "_deepnote_index_column": 1
        },
        {
         "satisfaction_level": 0.11,
         "average_montly_hours": 272,
         "promotion_last_5years": 0,
         "salary": "medium",
         "_deepnote_index_column": 2
        },
        {
         "satisfaction_level": 0.72,
         "average_montly_hours": 223,
         "promotion_last_5years": 0,
         "salary": "low",
         "_deepnote_index_column": 3
        },
        {
         "satisfaction_level": 0.37,
         "average_montly_hours": 159,
         "promotion_last_5years": 0,
         "salary": "low",
         "_deepnote_index_column": 4
        }
       ],
       "rows_bottom": null
      },
      "text/plain": "   satisfaction_level  average_montly_hours  promotion_last_5years  salary\n0                0.38                   157                      0     low\n1                0.80                   262                      0  medium\n2                0.11                   272                      0  medium\n3                0.72                   223                      0     low\n4                0.37                   159                      0     low",
      "text/html": "<div>\n<style scoped>\n    .dataframe tbody tr th:only-of-type {\n        vertical-align: middle;\n    }\n\n    .dataframe tbody tr th {\n        vertical-align: top;\n    }\n\n    .dataframe thead th {\n        text-align: right;\n    }\n</style>\n<table border=\"1\" class=\"dataframe\">\n  <thead>\n    <tr style=\"text-align: right;\">\n      <th></th>\n      <th>satisfaction_level</th>\n      <th>average_montly_hours</th>\n      <th>promotion_last_5years</th>\n      <th>salary</th>\n    </tr>\n  </thead>\n  <tbody>\n    <tr>\n      <th>0</th>\n      <td>0.38</td>\n      <td>157</td>\n      <td>0</td>\n      <td>low</td>\n    </tr>\n    <tr>\n      <th>1</th>\n      <td>0.80</td>\n      <td>262</td>\n      <td>0</td>\n      <td>medium</td>\n    </tr>\n    <tr>\n      <th>2</th>\n      <td>0.11</td>\n      <td>272</td>\n      <td>0</td>\n      <td>medium</td>\n    </tr>\n    <tr>\n      <th>3</th>\n      <td>0.72</td>\n      <td>223</td>\n      <td>0</td>\n      <td>low</td>\n    </tr>\n    <tr>\n      <th>4</th>\n      <td>0.37</td>\n      <td>159</td>\n      <td>0</td>\n      <td>low</td>\n    </tr>\n  </tbody>\n</table>\n</div>"
     },
     "metadata": {}
    }
   ],
   "execution_count": null
  },
  {
   "cell_type": "code",
   "metadata": {
    "tags": [],
    "cell_id": "00003-ada54ed9-bb26-44fa-830d-dc5e59561b8a",
    "deepnote_to_be_reexecuted": false,
    "source_hash": "5bba154e",
    "execution_start": 1629992300580,
    "execution_millis": 4,
    "deepnote_cell_type": "code"
   },
   "source": "salary_dummies = pd.get_dummies(subdf.salary, prefix=\"salary\")",
   "outputs": [],
   "execution_count": null
  },
  {
   "cell_type": "code",
   "metadata": {
    "tags": [],
    "cell_id": "00004-5ce72679-2af3-4c28-8e74-9ad09a789c24",
    "deepnote_to_be_reexecuted": false,
    "source_hash": "2f0f9349",
    "execution_start": 1629992300590,
    "execution_millis": 4,
    "deepnote_cell_type": "code"
   },
   "source": "df_with_dummies = pd.concat([subdf,salary_dummies],axis='columns')",
   "outputs": [],
   "execution_count": null
  },
  {
   "cell_type": "code",
   "metadata": {
    "tags": [],
    "cell_id": "00005-34d41ebb-cb7e-4344-8482-49f2bfa590ae",
    "deepnote_to_be_reexecuted": false,
    "source_hash": "f5a69d03",
    "execution_start": 1629992300620,
    "execution_millis": 10,
    "deepnote_cell_type": "code"
   },
   "source": "\ndf_with_dummies.head()",
   "outputs": [
    {
     "output_type": "execute_result",
     "execution_count": 11,
     "data": {
      "application/vnd.deepnote.dataframe.v2+json": {
       "row_count": 5,
       "column_count": 7,
       "columns": [
        {
         "name": "satisfaction_level",
         "dtype": "float64",
         "stats": {
          "unique_count": 5,
          "nan_count": 0,
          "min": "0.11",
          "max": "0.8",
          "histogram": [
           {
            "bin_start": 0.11,
            "bin_end": 0.179,
            "count": 1
           },
           {
            "bin_start": 0.179,
            "bin_end": 0.248,
            "count": 0
           },
           {
            "bin_start": 0.248,
            "bin_end": 0.317,
            "count": 0
           },
           {
            "bin_start": 0.317,
            "bin_end": 0.386,
            "count": 2
           },
           {
            "bin_start": 0.386,
            "bin_end": 0.455,
            "count": 0
           },
           {
            "bin_start": 0.455,
            "bin_end": 0.524,
            "count": 0
           },
           {
            "bin_start": 0.524,
            "bin_end": 0.5930000000000001,
            "count": 0
           },
           {
            "bin_start": 0.5930000000000001,
            "bin_end": 0.662,
            "count": 0
           },
           {
            "bin_start": 0.662,
            "bin_end": 0.731,
            "count": 1
           },
           {
            "bin_start": 0.731,
            "bin_end": 0.8,
            "count": 1
           }
          ]
         }
        },
        {
         "name": "average_montly_hours",
         "dtype": "int64",
         "stats": {
          "unique_count": 5,
          "nan_count": 0,
          "min": "157",
          "max": "272",
          "histogram": [
           {
            "bin_start": 157,
            "bin_end": 168.5,
            "count": 2
           },
           {
            "bin_start": 168.5,
            "bin_end": 180,
            "count": 0
           },
           {
            "bin_start": 180,
            "bin_end": 191.5,
            "count": 0
           },
           {
            "bin_start": 191.5,
            "bin_end": 203,
            "count": 0
           },
           {
            "bin_start": 203,
            "bin_end": 214.5,
            "count": 0
           },
           {
            "bin_start": 214.5,
            "bin_end": 226,
            "count": 1
           },
           {
            "bin_start": 226,
            "bin_end": 237.5,
            "count": 0
           },
           {
            "bin_start": 237.5,
            "bin_end": 249,
            "count": 0
           },
           {
            "bin_start": 249,
            "bin_end": 260.5,
            "count": 0
           },
           {
            "bin_start": 260.5,
            "bin_end": 272,
            "count": 2
           }
          ]
         }
        },
        {
         "name": "promotion_last_5years",
         "dtype": "int64",
         "stats": {
          "unique_count": 1,
          "nan_count": 0,
          "min": "0",
          "max": "0",
          "histogram": [
           {
            "bin_start": -0.5,
            "bin_end": -0.4,
            "count": 0
           },
           {
            "bin_start": -0.4,
            "bin_end": -0.3,
            "count": 0
           },
           {
            "bin_start": -0.3,
            "bin_end": -0.19999999999999996,
            "count": 0
           },
           {
            "bin_start": -0.19999999999999996,
            "bin_end": -0.09999999999999998,
            "count": 0
           },
           {
            "bin_start": -0.09999999999999998,
            "bin_end": 0,
            "count": 0
           },
           {
            "bin_start": 0,
            "bin_end": 0.10000000000000009,
            "count": 5
           },
           {
            "bin_start": 0.10000000000000009,
            "bin_end": 0.20000000000000007,
            "count": 0
           },
           {
            "bin_start": 0.20000000000000007,
            "bin_end": 0.30000000000000004,
            "count": 0
           },
           {
            "bin_start": 0.30000000000000004,
            "bin_end": 0.4,
            "count": 0
           },
           {
            "bin_start": 0.4,
            "bin_end": 0.5,
            "count": 0
           }
          ]
         }
        },
        {
         "name": "salary",
         "dtype": "object",
         "stats": {
          "unique_count": 2,
          "nan_count": 0,
          "categories": [
           {
            "name": "low",
            "count": 3
           },
           {
            "name": "medium",
            "count": 2
           }
          ]
         }
        },
        {
         "name": "salary_high",
         "dtype": "uint8",
         "stats": {
          "unique_count": 1,
          "nan_count": 0,
          "min": "0",
          "max": "0",
          "histogram": [
           {
            "bin_start": -0.5,
            "bin_end": -0.4,
            "count": 0
           },
           {
            "bin_start": -0.4,
            "bin_end": -0.3,
            "count": 0
           },
           {
            "bin_start": -0.3,
            "bin_end": -0.19999999999999996,
            "count": 0
           },
           {
            "bin_start": -0.19999999999999996,
            "bin_end": -0.09999999999999998,
            "count": 0
           },
           {
            "bin_start": -0.09999999999999998,
            "bin_end": 0,
            "count": 0
           },
           {
            "bin_start": 0,
            "bin_end": 0.10000000000000009,
            "count": 5
           },
           {
            "bin_start": 0.10000000000000009,
            "bin_end": 0.20000000000000007,
            "count": 0
           },
           {
            "bin_start": 0.20000000000000007,
            "bin_end": 0.30000000000000004,
            "count": 0
           },
           {
            "bin_start": 0.30000000000000004,
            "bin_end": 0.4,
            "count": 0
           },
           {
            "bin_start": 0.4,
            "bin_end": 0.5,
            "count": 0
           }
          ]
         }
        },
        {
         "name": "salary_low",
         "dtype": "uint8",
         "stats": {
          "unique_count": 2,
          "nan_count": 0,
          "min": "0",
          "max": "1",
          "histogram": [
           {
            "bin_start": 0,
            "bin_end": 0.1,
            "count": 2
           },
           {
            "bin_start": 0.1,
            "bin_end": 0.2,
            "count": 0
           },
           {
            "bin_start": 0.2,
            "bin_end": 0.30000000000000004,
            "count": 0
           },
           {
            "bin_start": 0.30000000000000004,
            "bin_end": 0.4,
            "count": 0
           },
           {
            "bin_start": 0.4,
            "bin_end": 0.5,
            "count": 0
           },
           {
            "bin_start": 0.5,
            "bin_end": 0.6000000000000001,
            "count": 0
           },
           {
            "bin_start": 0.6000000000000001,
            "bin_end": 0.7000000000000001,
            "count": 0
           },
           {
            "bin_start": 0.7000000000000001,
            "bin_end": 0.8,
            "count": 0
           },
           {
            "bin_start": 0.8,
            "bin_end": 0.9,
            "count": 0
           },
           {
            "bin_start": 0.9,
            "bin_end": 1,
            "count": 3
           }
          ]
         }
        },
        {
         "name": "salary_medium",
         "dtype": "uint8",
         "stats": {
          "unique_count": 2,
          "nan_count": 0,
          "min": "0",
          "max": "1",
          "histogram": [
           {
            "bin_start": 0,
            "bin_end": 0.1,
            "count": 3
           },
           {
            "bin_start": 0.1,
            "bin_end": 0.2,
            "count": 0
           },
           {
            "bin_start": 0.2,
            "bin_end": 0.30000000000000004,
            "count": 0
           },
           {
            "bin_start": 0.30000000000000004,
            "bin_end": 0.4,
            "count": 0
           },
           {
            "bin_start": 0.4,
            "bin_end": 0.5,
            "count": 0
           },
           {
            "bin_start": 0.5,
            "bin_end": 0.6000000000000001,
            "count": 0
           },
           {
            "bin_start": 0.6000000000000001,
            "bin_end": 0.7000000000000001,
            "count": 0
           },
           {
            "bin_start": 0.7000000000000001,
            "bin_end": 0.8,
            "count": 0
           },
           {
            "bin_start": 0.8,
            "bin_end": 0.9,
            "count": 0
           },
           {
            "bin_start": 0.9,
            "bin_end": 1,
            "count": 2
           }
          ]
         }
        },
        {
         "name": "_deepnote_index_column",
         "dtype": "int64"
        }
       ],
       "rows_top": [
        {
         "satisfaction_level": 0.38,
         "average_montly_hours": 157,
         "promotion_last_5years": 0,
         "salary": "low",
         "salary_high": 0,
         "salary_low": 1,
         "salary_medium": 0,
         "_deepnote_index_column": 0
        },
        {
         "satisfaction_level": 0.8,
         "average_montly_hours": 262,
         "promotion_last_5years": 0,
         "salary": "medium",
         "salary_high": 0,
         "salary_low": 0,
         "salary_medium": 1,
         "_deepnote_index_column": 1
        },
        {
         "satisfaction_level": 0.11,
         "average_montly_hours": 272,
         "promotion_last_5years": 0,
         "salary": "medium",
         "salary_high": 0,
         "salary_low": 0,
         "salary_medium": 1,
         "_deepnote_index_column": 2
        },
        {
         "satisfaction_level": 0.72,
         "average_montly_hours": 223,
         "promotion_last_5years": 0,
         "salary": "low",
         "salary_high": 0,
         "salary_low": 1,
         "salary_medium": 0,
         "_deepnote_index_column": 3
        },
        {
         "satisfaction_level": 0.37,
         "average_montly_hours": 159,
         "promotion_last_5years": 0,
         "salary": "low",
         "salary_high": 0,
         "salary_low": 1,
         "salary_medium": 0,
         "_deepnote_index_column": 4
        }
       ],
       "rows_bottom": null
      },
      "text/plain": "   satisfaction_level  average_montly_hours  promotion_last_5years  salary  \\\n0                0.38                   157                      0     low   \n1                0.80                   262                      0  medium   \n2                0.11                   272                      0  medium   \n3                0.72                   223                      0     low   \n4                0.37                   159                      0     low   \n\n   salary_high  salary_low  salary_medium  \n0            0           1              0  \n1            0           0              1  \n2            0           0              1  \n3            0           1              0  \n4            0           1              0  ",
      "text/html": "<div>\n<style scoped>\n    .dataframe tbody tr th:only-of-type {\n        vertical-align: middle;\n    }\n\n    .dataframe tbody tr th {\n        vertical-align: top;\n    }\n\n    .dataframe thead th {\n        text-align: right;\n    }\n</style>\n<table border=\"1\" class=\"dataframe\">\n  <thead>\n    <tr style=\"text-align: right;\">\n      <th></th>\n      <th>satisfaction_level</th>\n      <th>average_montly_hours</th>\n      <th>promotion_last_5years</th>\n      <th>salary</th>\n      <th>salary_high</th>\n      <th>salary_low</th>\n      <th>salary_medium</th>\n    </tr>\n  </thead>\n  <tbody>\n    <tr>\n      <th>0</th>\n      <td>0.38</td>\n      <td>157</td>\n      <td>0</td>\n      <td>low</td>\n      <td>0</td>\n      <td>1</td>\n      <td>0</td>\n    </tr>\n    <tr>\n      <th>1</th>\n      <td>0.80</td>\n      <td>262</td>\n      <td>0</td>\n      <td>medium</td>\n      <td>0</td>\n      <td>0</td>\n      <td>1</td>\n    </tr>\n    <tr>\n      <th>2</th>\n      <td>0.11</td>\n      <td>272</td>\n      <td>0</td>\n      <td>medium</td>\n      <td>0</td>\n      <td>0</td>\n      <td>1</td>\n    </tr>\n    <tr>\n      <th>3</th>\n      <td>0.72</td>\n      <td>223</td>\n      <td>0</td>\n      <td>low</td>\n      <td>0</td>\n      <td>1</td>\n      <td>0</td>\n    </tr>\n    <tr>\n      <th>4</th>\n      <td>0.37</td>\n      <td>159</td>\n      <td>0</td>\n      <td>low</td>\n      <td>0</td>\n      <td>1</td>\n      <td>0</td>\n    </tr>\n  </tbody>\n</table>\n</div>"
     },
     "metadata": {}
    }
   ],
   "execution_count": null
  },
  {
   "cell_type": "code",
   "metadata": {
    "tags": [],
    "cell_id": "00006-38d8980b-c028-4d54-ae61-e12e17f6f851",
    "deepnote_to_be_reexecuted": false,
    "source_hash": "fb8136e0",
    "execution_start": 1629992300635,
    "execution_millis": 29,
    "deepnote_cell_type": "code"
   },
   "source": "df_with_dummies.drop('salary',axis='columns',inplace=True)\ndf_with_dummies.head()",
   "outputs": [
    {
     "output_type": "execute_result",
     "execution_count": 12,
     "data": {
      "application/vnd.deepnote.dataframe.v2+json": {
       "row_count": 5,
       "column_count": 6,
       "columns": [
        {
         "name": "satisfaction_level",
         "dtype": "float64",
         "stats": {
          "unique_count": 5,
          "nan_count": 0,
          "min": "0.11",
          "max": "0.8",
          "histogram": [
           {
            "bin_start": 0.11,
            "bin_end": 0.179,
            "count": 1
           },
           {
            "bin_start": 0.179,
            "bin_end": 0.248,
            "count": 0
           },
           {
            "bin_start": 0.248,
            "bin_end": 0.317,
            "count": 0
           },
           {
            "bin_start": 0.317,
            "bin_end": 0.386,
            "count": 2
           },
           {
            "bin_start": 0.386,
            "bin_end": 0.455,
            "count": 0
           },
           {
            "bin_start": 0.455,
            "bin_end": 0.524,
            "count": 0
           },
           {
            "bin_start": 0.524,
            "bin_end": 0.5930000000000001,
            "count": 0
           },
           {
            "bin_start": 0.5930000000000001,
            "bin_end": 0.662,
            "count": 0
           },
           {
            "bin_start": 0.662,
            "bin_end": 0.731,
            "count": 1
           },
           {
            "bin_start": 0.731,
            "bin_end": 0.8,
            "count": 1
           }
          ]
         }
        },
        {
         "name": "average_montly_hours",
         "dtype": "int64",
         "stats": {
          "unique_count": 5,
          "nan_count": 0,
          "min": "157",
          "max": "272",
          "histogram": [
           {
            "bin_start": 157,
            "bin_end": 168.5,
            "count": 2
           },
           {
            "bin_start": 168.5,
            "bin_end": 180,
            "count": 0
           },
           {
            "bin_start": 180,
            "bin_end": 191.5,
            "count": 0
           },
           {
            "bin_start": 191.5,
            "bin_end": 203,
            "count": 0
           },
           {
            "bin_start": 203,
            "bin_end": 214.5,
            "count": 0
           },
           {
            "bin_start": 214.5,
            "bin_end": 226,
            "count": 1
           },
           {
            "bin_start": 226,
            "bin_end": 237.5,
            "count": 0
           },
           {
            "bin_start": 237.5,
            "bin_end": 249,
            "count": 0
           },
           {
            "bin_start": 249,
            "bin_end": 260.5,
            "count": 0
           },
           {
            "bin_start": 260.5,
            "bin_end": 272,
            "count": 2
           }
          ]
         }
        },
        {
         "name": "promotion_last_5years",
         "dtype": "int64",
         "stats": {
          "unique_count": 1,
          "nan_count": 0,
          "min": "0",
          "max": "0",
          "histogram": [
           {
            "bin_start": -0.5,
            "bin_end": -0.4,
            "count": 0
           },
           {
            "bin_start": -0.4,
            "bin_end": -0.3,
            "count": 0
           },
           {
            "bin_start": -0.3,
            "bin_end": -0.19999999999999996,
            "count": 0
           },
           {
            "bin_start": -0.19999999999999996,
            "bin_end": -0.09999999999999998,
            "count": 0
           },
           {
            "bin_start": -0.09999999999999998,
            "bin_end": 0,
            "count": 0
           },
           {
            "bin_start": 0,
            "bin_end": 0.10000000000000009,
            "count": 5
           },
           {
            "bin_start": 0.10000000000000009,
            "bin_end": 0.20000000000000007,
            "count": 0
           },
           {
            "bin_start": 0.20000000000000007,
            "bin_end": 0.30000000000000004,
            "count": 0
           },
           {
            "bin_start": 0.30000000000000004,
            "bin_end": 0.4,
            "count": 0
           },
           {
            "bin_start": 0.4,
            "bin_end": 0.5,
            "count": 0
           }
          ]
         }
        },
        {
         "name": "salary_high",
         "dtype": "uint8",
         "stats": {
          "unique_count": 1,
          "nan_count": 0,
          "min": "0",
          "max": "0",
          "histogram": [
           {
            "bin_start": -0.5,
            "bin_end": -0.4,
            "count": 0
           },
           {
            "bin_start": -0.4,
            "bin_end": -0.3,
            "count": 0
           },
           {
            "bin_start": -0.3,
            "bin_end": -0.19999999999999996,
            "count": 0
           },
           {
            "bin_start": -0.19999999999999996,
            "bin_end": -0.09999999999999998,
            "count": 0
           },
           {
            "bin_start": -0.09999999999999998,
            "bin_end": 0,
            "count": 0
           },
           {
            "bin_start": 0,
            "bin_end": 0.10000000000000009,
            "count": 5
           },
           {
            "bin_start": 0.10000000000000009,
            "bin_end": 0.20000000000000007,
            "count": 0
           },
           {
            "bin_start": 0.20000000000000007,
            "bin_end": 0.30000000000000004,
            "count": 0
           },
           {
            "bin_start": 0.30000000000000004,
            "bin_end": 0.4,
            "count": 0
           },
           {
            "bin_start": 0.4,
            "bin_end": 0.5,
            "count": 0
           }
          ]
         }
        },
        {
         "name": "salary_low",
         "dtype": "uint8",
         "stats": {
          "unique_count": 2,
          "nan_count": 0,
          "min": "0",
          "max": "1",
          "histogram": [
           {
            "bin_start": 0,
            "bin_end": 0.1,
            "count": 2
           },
           {
            "bin_start": 0.1,
            "bin_end": 0.2,
            "count": 0
           },
           {
            "bin_start": 0.2,
            "bin_end": 0.30000000000000004,
            "count": 0
           },
           {
            "bin_start": 0.30000000000000004,
            "bin_end": 0.4,
            "count": 0
           },
           {
            "bin_start": 0.4,
            "bin_end": 0.5,
            "count": 0
           },
           {
            "bin_start": 0.5,
            "bin_end": 0.6000000000000001,
            "count": 0
           },
           {
            "bin_start": 0.6000000000000001,
            "bin_end": 0.7000000000000001,
            "count": 0
           },
           {
            "bin_start": 0.7000000000000001,
            "bin_end": 0.8,
            "count": 0
           },
           {
            "bin_start": 0.8,
            "bin_end": 0.9,
            "count": 0
           },
           {
            "bin_start": 0.9,
            "bin_end": 1,
            "count": 3
           }
          ]
         }
        },
        {
         "name": "salary_medium",
         "dtype": "uint8",
         "stats": {
          "unique_count": 2,
          "nan_count": 0,
          "min": "0",
          "max": "1",
          "histogram": [
           {
            "bin_start": 0,
            "bin_end": 0.1,
            "count": 3
           },
           {
            "bin_start": 0.1,
            "bin_end": 0.2,
            "count": 0
           },
           {
            "bin_start": 0.2,
            "bin_end": 0.30000000000000004,
            "count": 0
           },
           {
            "bin_start": 0.30000000000000004,
            "bin_end": 0.4,
            "count": 0
           },
           {
            "bin_start": 0.4,
            "bin_end": 0.5,
            "count": 0
           },
           {
            "bin_start": 0.5,
            "bin_end": 0.6000000000000001,
            "count": 0
           },
           {
            "bin_start": 0.6000000000000001,
            "bin_end": 0.7000000000000001,
            "count": 0
           },
           {
            "bin_start": 0.7000000000000001,
            "bin_end": 0.8,
            "count": 0
           },
           {
            "bin_start": 0.8,
            "bin_end": 0.9,
            "count": 0
           },
           {
            "bin_start": 0.9,
            "bin_end": 1,
            "count": 2
           }
          ]
         }
        },
        {
         "name": "_deepnote_index_column",
         "dtype": "int64"
        }
       ],
       "rows_top": [
        {
         "satisfaction_level": 0.38,
         "average_montly_hours": 157,
         "promotion_last_5years": 0,
         "salary_high": 0,
         "salary_low": 1,
         "salary_medium": 0,
         "_deepnote_index_column": 0
        },
        {
         "satisfaction_level": 0.8,
         "average_montly_hours": 262,
         "promotion_last_5years": 0,
         "salary_high": 0,
         "salary_low": 0,
         "salary_medium": 1,
         "_deepnote_index_column": 1
        },
        {
         "satisfaction_level": 0.11,
         "average_montly_hours": 272,
         "promotion_last_5years": 0,
         "salary_high": 0,
         "salary_low": 0,
         "salary_medium": 1,
         "_deepnote_index_column": 2
        },
        {
         "satisfaction_level": 0.72,
         "average_montly_hours": 223,
         "promotion_last_5years": 0,
         "salary_high": 0,
         "salary_low": 1,
         "salary_medium": 0,
         "_deepnote_index_column": 3
        },
        {
         "satisfaction_level": 0.37,
         "average_montly_hours": 159,
         "promotion_last_5years": 0,
         "salary_high": 0,
         "salary_low": 1,
         "salary_medium": 0,
         "_deepnote_index_column": 4
        }
       ],
       "rows_bottom": null
      },
      "text/plain": "   satisfaction_level  average_montly_hours  promotion_last_5years  \\\n0                0.38                   157                      0   \n1                0.80                   262                      0   \n2                0.11                   272                      0   \n3                0.72                   223                      0   \n4                0.37                   159                      0   \n\n   salary_high  salary_low  salary_medium  \n0            0           1              0  \n1            0           0              1  \n2            0           0              1  \n3            0           1              0  \n4            0           1              0  ",
      "text/html": "<div>\n<style scoped>\n    .dataframe tbody tr th:only-of-type {\n        vertical-align: middle;\n    }\n\n    .dataframe tbody tr th {\n        vertical-align: top;\n    }\n\n    .dataframe thead th {\n        text-align: right;\n    }\n</style>\n<table border=\"1\" class=\"dataframe\">\n  <thead>\n    <tr style=\"text-align: right;\">\n      <th></th>\n      <th>satisfaction_level</th>\n      <th>average_montly_hours</th>\n      <th>promotion_last_5years</th>\n      <th>salary_high</th>\n      <th>salary_low</th>\n      <th>salary_medium</th>\n    </tr>\n  </thead>\n  <tbody>\n    <tr>\n      <th>0</th>\n      <td>0.38</td>\n      <td>157</td>\n      <td>0</td>\n      <td>0</td>\n      <td>1</td>\n      <td>0</td>\n    </tr>\n    <tr>\n      <th>1</th>\n      <td>0.80</td>\n      <td>262</td>\n      <td>0</td>\n      <td>0</td>\n      <td>0</td>\n      <td>1</td>\n    </tr>\n    <tr>\n      <th>2</th>\n      <td>0.11</td>\n      <td>272</td>\n      <td>0</td>\n      <td>0</td>\n      <td>0</td>\n      <td>1</td>\n    </tr>\n    <tr>\n      <th>3</th>\n      <td>0.72</td>\n      <td>223</td>\n      <td>0</td>\n      <td>0</td>\n      <td>1</td>\n      <td>0</td>\n    </tr>\n    <tr>\n      <th>4</th>\n      <td>0.37</td>\n      <td>159</td>\n      <td>0</td>\n      <td>0</td>\n      <td>1</td>\n      <td>0</td>\n    </tr>\n  </tbody>\n</table>\n</div>"
     },
     "metadata": {}
    }
   ],
   "execution_count": null
  },
  {
   "cell_type": "code",
   "metadata": {
    "tags": [],
    "cell_id": "00007-5c455594-213a-4192-b408-c155bb113d9b",
    "deepnote_to_be_reexecuted": false,
    "source_hash": "6263df82",
    "execution_start": 1629992300662,
    "execution_millis": 25,
    "deepnote_cell_type": "code"
   },
   "source": "X = df_with_dummies\nX.head()",
   "outputs": [
    {
     "output_type": "execute_result",
     "execution_count": 13,
     "data": {
      "application/vnd.deepnote.dataframe.v2+json": {
       "row_count": 5,
       "column_count": 6,
       "columns": [
        {
         "name": "satisfaction_level",
         "dtype": "float64",
         "stats": {
          "unique_count": 5,
          "nan_count": 0,
          "min": "0.11",
          "max": "0.8",
          "histogram": [
           {
            "bin_start": 0.11,
            "bin_end": 0.179,
            "count": 1
           },
           {
            "bin_start": 0.179,
            "bin_end": 0.248,
            "count": 0
           },
           {
            "bin_start": 0.248,
            "bin_end": 0.317,
            "count": 0
           },
           {
            "bin_start": 0.317,
            "bin_end": 0.386,
            "count": 2
           },
           {
            "bin_start": 0.386,
            "bin_end": 0.455,
            "count": 0
           },
           {
            "bin_start": 0.455,
            "bin_end": 0.524,
            "count": 0
           },
           {
            "bin_start": 0.524,
            "bin_end": 0.5930000000000001,
            "count": 0
           },
           {
            "bin_start": 0.5930000000000001,
            "bin_end": 0.662,
            "count": 0
           },
           {
            "bin_start": 0.662,
            "bin_end": 0.731,
            "count": 1
           },
           {
            "bin_start": 0.731,
            "bin_end": 0.8,
            "count": 1
           }
          ]
         }
        },
        {
         "name": "average_montly_hours",
         "dtype": "int64",
         "stats": {
          "unique_count": 5,
          "nan_count": 0,
          "min": "157",
          "max": "272",
          "histogram": [
           {
            "bin_start": 157,
            "bin_end": 168.5,
            "count": 2
           },
           {
            "bin_start": 168.5,
            "bin_end": 180,
            "count": 0
           },
           {
            "bin_start": 180,
            "bin_end": 191.5,
            "count": 0
           },
           {
            "bin_start": 191.5,
            "bin_end": 203,
            "count": 0
           },
           {
            "bin_start": 203,
            "bin_end": 214.5,
            "count": 0
           },
           {
            "bin_start": 214.5,
            "bin_end": 226,
            "count": 1
           },
           {
            "bin_start": 226,
            "bin_end": 237.5,
            "count": 0
           },
           {
            "bin_start": 237.5,
            "bin_end": 249,
            "count": 0
           },
           {
            "bin_start": 249,
            "bin_end": 260.5,
            "count": 0
           },
           {
            "bin_start": 260.5,
            "bin_end": 272,
            "count": 2
           }
          ]
         }
        },
        {
         "name": "promotion_last_5years",
         "dtype": "int64",
         "stats": {
          "unique_count": 1,
          "nan_count": 0,
          "min": "0",
          "max": "0",
          "histogram": [
           {
            "bin_start": -0.5,
            "bin_end": -0.4,
            "count": 0
           },
           {
            "bin_start": -0.4,
            "bin_end": -0.3,
            "count": 0
           },
           {
            "bin_start": -0.3,
            "bin_end": -0.19999999999999996,
            "count": 0
           },
           {
            "bin_start": -0.19999999999999996,
            "bin_end": -0.09999999999999998,
            "count": 0
           },
           {
            "bin_start": -0.09999999999999998,
            "bin_end": 0,
            "count": 0
           },
           {
            "bin_start": 0,
            "bin_end": 0.10000000000000009,
            "count": 5
           },
           {
            "bin_start": 0.10000000000000009,
            "bin_end": 0.20000000000000007,
            "count": 0
           },
           {
            "bin_start": 0.20000000000000007,
            "bin_end": 0.30000000000000004,
            "count": 0
           },
           {
            "bin_start": 0.30000000000000004,
            "bin_end": 0.4,
            "count": 0
           },
           {
            "bin_start": 0.4,
            "bin_end": 0.5,
            "count": 0
           }
          ]
         }
        },
        {
         "name": "salary_high",
         "dtype": "uint8",
         "stats": {
          "unique_count": 1,
          "nan_count": 0,
          "min": "0",
          "max": "0",
          "histogram": [
           {
            "bin_start": -0.5,
            "bin_end": -0.4,
            "count": 0
           },
           {
            "bin_start": -0.4,
            "bin_end": -0.3,
            "count": 0
           },
           {
            "bin_start": -0.3,
            "bin_end": -0.19999999999999996,
            "count": 0
           },
           {
            "bin_start": -0.19999999999999996,
            "bin_end": -0.09999999999999998,
            "count": 0
           },
           {
            "bin_start": -0.09999999999999998,
            "bin_end": 0,
            "count": 0
           },
           {
            "bin_start": 0,
            "bin_end": 0.10000000000000009,
            "count": 5
           },
           {
            "bin_start": 0.10000000000000009,
            "bin_end": 0.20000000000000007,
            "count": 0
           },
           {
            "bin_start": 0.20000000000000007,
            "bin_end": 0.30000000000000004,
            "count": 0
           },
           {
            "bin_start": 0.30000000000000004,
            "bin_end": 0.4,
            "count": 0
           },
           {
            "bin_start": 0.4,
            "bin_end": 0.5,
            "count": 0
           }
          ]
         }
        },
        {
         "name": "salary_low",
         "dtype": "uint8",
         "stats": {
          "unique_count": 2,
          "nan_count": 0,
          "min": "0",
          "max": "1",
          "histogram": [
           {
            "bin_start": 0,
            "bin_end": 0.1,
            "count": 2
           },
           {
            "bin_start": 0.1,
            "bin_end": 0.2,
            "count": 0
           },
           {
            "bin_start": 0.2,
            "bin_end": 0.30000000000000004,
            "count": 0
           },
           {
            "bin_start": 0.30000000000000004,
            "bin_end": 0.4,
            "count": 0
           },
           {
            "bin_start": 0.4,
            "bin_end": 0.5,
            "count": 0
           },
           {
            "bin_start": 0.5,
            "bin_end": 0.6000000000000001,
            "count": 0
           },
           {
            "bin_start": 0.6000000000000001,
            "bin_end": 0.7000000000000001,
            "count": 0
           },
           {
            "bin_start": 0.7000000000000001,
            "bin_end": 0.8,
            "count": 0
           },
           {
            "bin_start": 0.8,
            "bin_end": 0.9,
            "count": 0
           },
           {
            "bin_start": 0.9,
            "bin_end": 1,
            "count": 3
           }
          ]
         }
        },
        {
         "name": "salary_medium",
         "dtype": "uint8",
         "stats": {
          "unique_count": 2,
          "nan_count": 0,
          "min": "0",
          "max": "1",
          "histogram": [
           {
            "bin_start": 0,
            "bin_end": 0.1,
            "count": 3
           },
           {
            "bin_start": 0.1,
            "bin_end": 0.2,
            "count": 0
           },
           {
            "bin_start": 0.2,
            "bin_end": 0.30000000000000004,
            "count": 0
           },
           {
            "bin_start": 0.30000000000000004,
            "bin_end": 0.4,
            "count": 0
           },
           {
            "bin_start": 0.4,
            "bin_end": 0.5,
            "count": 0
           },
           {
            "bin_start": 0.5,
            "bin_end": 0.6000000000000001,
            "count": 0
           },
           {
            "bin_start": 0.6000000000000001,
            "bin_end": 0.7000000000000001,
            "count": 0
           },
           {
            "bin_start": 0.7000000000000001,
            "bin_end": 0.8,
            "count": 0
           },
           {
            "bin_start": 0.8,
            "bin_end": 0.9,
            "count": 0
           },
           {
            "bin_start": 0.9,
            "bin_end": 1,
            "count": 2
           }
          ]
         }
        },
        {
         "name": "_deepnote_index_column",
         "dtype": "int64"
        }
       ],
       "rows_top": [
        {
         "satisfaction_level": 0.38,
         "average_montly_hours": 157,
         "promotion_last_5years": 0,
         "salary_high": 0,
         "salary_low": 1,
         "salary_medium": 0,
         "_deepnote_index_column": 0
        },
        {
         "satisfaction_level": 0.8,
         "average_montly_hours": 262,
         "promotion_last_5years": 0,
         "salary_high": 0,
         "salary_low": 0,
         "salary_medium": 1,
         "_deepnote_index_column": 1
        },
        {
         "satisfaction_level": 0.11,
         "average_montly_hours": 272,
         "promotion_last_5years": 0,
         "salary_high": 0,
         "salary_low": 0,
         "salary_medium": 1,
         "_deepnote_index_column": 2
        },
        {
         "satisfaction_level": 0.72,
         "average_montly_hours": 223,
         "promotion_last_5years": 0,
         "salary_high": 0,
         "salary_low": 1,
         "salary_medium": 0,
         "_deepnote_index_column": 3
        },
        {
         "satisfaction_level": 0.37,
         "average_montly_hours": 159,
         "promotion_last_5years": 0,
         "salary_high": 0,
         "salary_low": 1,
         "salary_medium": 0,
         "_deepnote_index_column": 4
        }
       ],
       "rows_bottom": null
      },
      "text/plain": "   satisfaction_level  average_montly_hours  promotion_last_5years  \\\n0                0.38                   157                      0   \n1                0.80                   262                      0   \n2                0.11                   272                      0   \n3                0.72                   223                      0   \n4                0.37                   159                      0   \n\n   salary_high  salary_low  salary_medium  \n0            0           1              0  \n1            0           0              1  \n2            0           0              1  \n3            0           1              0  \n4            0           1              0  ",
      "text/html": "<div>\n<style scoped>\n    .dataframe tbody tr th:only-of-type {\n        vertical-align: middle;\n    }\n\n    .dataframe tbody tr th {\n        vertical-align: top;\n    }\n\n    .dataframe thead th {\n        text-align: right;\n    }\n</style>\n<table border=\"1\" class=\"dataframe\">\n  <thead>\n    <tr style=\"text-align: right;\">\n      <th></th>\n      <th>satisfaction_level</th>\n      <th>average_montly_hours</th>\n      <th>promotion_last_5years</th>\n      <th>salary_high</th>\n      <th>salary_low</th>\n      <th>salary_medium</th>\n    </tr>\n  </thead>\n  <tbody>\n    <tr>\n      <th>0</th>\n      <td>0.38</td>\n      <td>157</td>\n      <td>0</td>\n      <td>0</td>\n      <td>1</td>\n      <td>0</td>\n    </tr>\n    <tr>\n      <th>1</th>\n      <td>0.80</td>\n      <td>262</td>\n      <td>0</td>\n      <td>0</td>\n      <td>0</td>\n      <td>1</td>\n    </tr>\n    <tr>\n      <th>2</th>\n      <td>0.11</td>\n      <td>272</td>\n      <td>0</td>\n      <td>0</td>\n      <td>0</td>\n      <td>1</td>\n    </tr>\n    <tr>\n      <th>3</th>\n      <td>0.72</td>\n      <td>223</td>\n      <td>0</td>\n      <td>0</td>\n      <td>1</td>\n      <td>0</td>\n    </tr>\n    <tr>\n      <th>4</th>\n      <td>0.37</td>\n      <td>159</td>\n      <td>0</td>\n      <td>0</td>\n      <td>1</td>\n      <td>0</td>\n    </tr>\n  </tbody>\n</table>\n</div>"
     },
     "metadata": {}
    }
   ],
   "execution_count": null
  },
  {
   "cell_type": "code",
   "source": "",
   "metadata": {
    "cell_id": "00008-8ba14095-9e24-4bc0-87d6-018030b968ac",
    "deepnote_to_be_reexecuted": false,
    "source_hash": "b623e53d",
    "execution_start": 1629992300686,
    "execution_millis": 2,
    "deepnote_cell_type": "visualization"
   },
   "outputs": [],
   "execution_count": null
  },
  {
   "cell_type": "code",
   "metadata": {
    "tags": [],
    "cell_id": "00008-56f4d428-f85e-4282-ac7c-074ea0caf782",
    "deepnote_to_be_reexecuted": false,
    "source_hash": "5aeee403",
    "execution_start": 1629992300733,
    "execution_millis": 1,
    "deepnote_cell_type": "code"
   },
   "source": "y = df.left",
   "outputs": [],
   "execution_count": null
  },
  {
   "cell_type": "code",
   "metadata": {
    "tags": [],
    "cell_id": "00009-c968cba2-313b-4cae-a791-3c56dced64e5",
    "deepnote_to_be_reexecuted": false,
    "source_hash": "b68a138",
    "execution_start": 1629992300734,
    "execution_millis": 859,
    "deepnote_cell_type": "code"
   },
   "source": "from sklearn.model_selection import train_test_split\nX_train, X_test, y_train, y_test = train_test_split(X,y,train_size=0.9)",
   "outputs": [],
   "execution_count": null
  },
  {
   "cell_type": "code",
   "metadata": {
    "tags": [],
    "cell_id": "00010-17c5b53a-b444-4a05-a007-dc5a9cc63f45",
    "deepnote_to_be_reexecuted": false,
    "source_hash": "5363849c",
    "execution_start": 1629992301598,
    "execution_millis": 49,
    "deepnote_cell_type": "code"
   },
   "source": "from sklearn.linear_model import LogisticRegression\nmodel = LogisticRegression()",
   "outputs": [],
   "execution_count": null
  },
  {
   "cell_type": "code",
   "metadata": {
    "tags": [],
    "cell_id": "00011-89f45d47-ae34-46b2-8bc6-a93cf52965ca",
    "deepnote_to_be_reexecuted": false,
    "source_hash": "69d3b53d",
    "execution_start": 1629992301651,
    "execution_millis": 458,
    "deepnote_cell_type": "code"
   },
   "source": "model.fit(X_train, y_train)",
   "outputs": [
    {
     "name": "stderr",
     "text": "/shared-libs/python3.7/py/lib/python3.7/site-packages/sklearn/linear_model/_logistic.py:765: ConvergenceWarning: lbfgs failed to converge (status=1):\nSTOP: TOTAL NO. of ITERATIONS REACHED LIMIT.\n\nIncrease the number of iterations (max_iter) or scale the data as shown in:\n    https://scikit-learn.org/stable/modules/preprocessing.html\nPlease also refer to the documentation for alternative solver options:\n    https://scikit-learn.org/stable/modules/linear_model.html#logistic-regression\n  extra_warning_msg=_LOGISTIC_SOLVER_CONVERGENCE_MSG)\n",
     "output_type": "stream"
    },
    {
     "output_type": "execute_result",
     "execution_count": 17,
     "data": {
      "text/plain": "LogisticRegression()"
     },
     "metadata": {}
    }
   ],
   "execution_count": null
  },
  {
   "cell_type": "code",
   "metadata": {
    "tags": [],
    "cell_id": "00012-4f0c9848-a3b5-4a18-a65d-0e6bbc4a036d",
    "deepnote_to_be_reexecuted": false,
    "source_hash": "3e31e2fc",
    "execution_start": 1629992302112,
    "execution_millis": 22,
    "deepnote_cell_type": "code"
   },
   "source": "model.predict(X_test)",
   "outputs": [
    {
     "output_type": "execute_result",
     "execution_count": 18,
     "data": {
      "text/plain": "array([0, 0, 0, ..., 0, 1, 0])"
     },
     "metadata": {}
    }
   ],
   "execution_count": null
  },
  {
   "cell_type": "code",
   "metadata": {
    "tags": [],
    "cell_id": "00013-6ded0118-27ec-4662-9699-96b9b5d34feb",
    "deepnote_to_be_reexecuted": false,
    "source_hash": "3eb4cfbf",
    "execution_start": 1629992302144,
    "execution_millis": 13,
    "deepnote_cell_type": "code"
   },
   "source": "model.score(X_test,y_test)",
   "outputs": [
    {
     "output_type": "execute_result",
     "execution_count": 19,
     "data": {
      "text/plain": "0.782"
     },
     "metadata": {}
    }
   ],
   "execution_count": null
  },
  {
   "cell_type": "code",
   "metadata": {
    "tags": [],
    "cell_id": "00020-219cf47b-541d-4bcf-95fb-8a0c480afcb2",
    "deepnote_to_be_reexecuted": false,
    "source_hash": "77fafbd2",
    "execution_start": 1629992302173,
    "execution_millis": 16,
    "deepnote_cell_type": "code"
   },
   "source": "model.predict([[0.15, 300, 0, 0, 1, 0]])",
   "outputs": [
    {
     "output_type": "execute_result",
     "execution_count": 20,
     "data": {
      "text/plain": "array([1])"
     },
     "metadata": {}
    }
   ],
   "execution_count": null
  },
  {
   "cell_type": "code",
   "metadata": {
    "tags": [],
    "cell_id": "00021-02e0454a-7e72-4a5e-9374-e6bb844faaca",
    "deepnote_to_be_reexecuted": false,
    "source_hash": "536e1d55",
    "execution_start": 1629992302191,
    "execution_millis": 13,
    "deepnote_cell_type": "code"
   },
   "source": "model.predict([[0.45, 300, 0, 0, 0, 1]])",
   "outputs": [
    {
     "output_type": "execute_result",
     "execution_count": 21,
     "data": {
      "text/plain": "array([0])"
     },
     "metadata": {}
    }
   ],
   "execution_count": null
  },
  {
   "cell_type": "code",
   "metadata": {
    "tags": [],
    "cell_id": "00018-f1837bd8-6453-4f09-a5e5-161a7fb3565f",
    "deepnote_to_be_reexecuted": false,
    "source_hash": "1058a9f2",
    "execution_start": 1629992302246,
    "execution_millis": 5,
    "deepnote_cell_type": "code"
   },
   "source": "model.coef_",
   "outputs": [
    {
     "output_type": "execute_result",
     "execution_count": 22,
     "data": {
      "text/plain": "array([[-3.78147765e+00,  2.10558304e-03, -1.30866380e+00,\n        -9.91230356e-01,  7.85471655e-01,  2.78665787e-01]])"
     },
     "metadata": {}
    }
   ],
   "execution_count": null
  },
  {
   "cell_type": "code",
   "metadata": {
    "tags": [],
    "cell_id": "00019-50603f0c-4fe7-499d-acd3-e0198071ad1b",
    "deepnote_to_be_reexecuted": false,
    "source_hash": "b18564c8",
    "execution_start": 1629992302247,
    "execution_millis": 4,
    "deepnote_cell_type": "code"
   },
   "source": "model.intercept_",
   "outputs": [
    {
     "output_type": "execute_result",
     "execution_count": 23,
     "data": {
      "text/plain": "array([0.0648768])"
     },
     "metadata": {}
    }
   ],
   "execution_count": null
  },
  {
   "cell_type": "markdown",
   "source": "<a style='text-decoration:none;line-height:16px;display:flex;color:#5B5B62;padding:10px;justify-content:end;' href='https://deepnote.com?utm_source=created-in-deepnote-cell&projectId=f46f3040-da69-4700-9777-62f3d4cb88ab' target=\"_blank\">\n<img alt='Created in deepnote.com' style='display:inline;max-height:16px;margin:0px;margin-right:7.5px;' src='data:image/svg+xml;base64,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' > </img>\nCreated in <span style='font-weight:600;margin-left:4px;'>Deepnote</span></a>",
   "metadata": {
    "tags": [],
    "created_in_deepnote_cell": true,
    "deepnote_cell_type": "markdown"
   }
  }
 ],
 "nbformat": 4,
 "nbformat_minor": 2,
 "metadata": {
  "orig_nbformat": 2,
  "deepnote": {
   "is_reactive": false
  },
  "deepnote_notebook_id": "af79332e-b785-4268-9b48-7a89b13b0262",
  "deepnote_execution_queue": []
 }
}